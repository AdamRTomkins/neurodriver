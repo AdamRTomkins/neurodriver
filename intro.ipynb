{
 "metadata": {
  "name": ""
 },
 "nbformat": 3,
 "nbformat_minor": 0,
 "worksheets": [
  {
   "cells": [
    {
     "cell_type": "heading",
     "level": 1,
     "metadata": {},
     "source": [
      "Introduction to Neurokernel's API"
     ]
    },
    {
     "cell_type": "markdown",
     "metadata": {},
     "source": [
      "This notebook illustrates how to define and connect local processing unit (LPU) models using Neurokernel."
     ]
    },
    {
     "cell_type": "heading",
     "level": 3,
     "metadata": {},
     "source": [
      "Background"
     ]
    },
    {
     "cell_type": "markdown",
     "metadata": {},
     "source": [
      "An LPU comprises two distinct populations of neurons [(Chiang et al., 2011)](#chiang_three-dimensional_2011): *local* neurons may only project to other neurons in the LPU, while *projection* neurons may project both to local neurons and neurons in other LPUs. All synapses between neurons are comprised by *internal connectivity* patterns. LPUs are linked by *inter-LPU connectivity* patterns that map one LPU's outputs to inputs in other LPUs. The general structure of an LPU is shown below:"
     ]
    },
    {
     "cell_type": "markdown",
     "metadata": {},
     "source": [
      "<img src='files/files/generic-lpus.jpg' />"
     ]
    },
    {
     "cell_type": "heading",
     "level": 3,
     "metadata": {},
     "source": [
      "Defining an LPU Interface"
     ]
    },
    {
     "cell_type": "heading",
     "level": 4,
     "metadata": {},
     "source": [
      "Interface Ports"
     ]
    },
    {
     "cell_type": "markdown",
     "metadata": {},
     "source": [
      "All communication between LPUs must pass through *ports* that are internally associated with modeling elements that must emit or receive external data. An LPU's *interface* is defined as the set of ports it exposes to other LPUs. Each port is defined by a unique identifier string and attributes that indicate whether \n",
      "- it transmits *spikes* (i.e., boolean values) or *graded potentials* (i.e., floating point numbers) at each step of model execution and whether\n",
      "- it accepts *input* or emits *output*.\n",
      "\n",
      "To facilitate management of a large numbers of ports, Neurokernel requires that port identifiers conform to a hierarchical format similar to that used to label files or [elements in structured documents](http://www.w3.org/TR/xpath/).  Each identifier may comprise multiple *levels* joined by separators (/ and []). Neurokernel also defines an extended format for selecting multiple ports with a single *selector*; a selector that cannot be expanded to an explicit list of individual port identifiers is said to be *ambiguous*. Rather than define a formal grammar for this format, the following table depicts examples of how it may be used to refer to multiple ports.\n",
      "\n",
      "<table>\n",
      "    <tr>\n",
      "    <th>Identifier/Selector</th>\n",
      "    <th>Comments</th>\n",
      "    </tr>\n",
      "    <tr>\n",
      "    <td><tt>/med/L1[0]</tt></td>\n",
      "    <td>selects a single port</td>\n",
      "    </tr>\n",
      "    <tr>\n",
      "    <td><tt>/med/L1[0]</tt></td>\n",
      "    <td>equivalent to <tt>/med/L1[0]</tt></td>\n",
      "    </tr>\n",
      "    <tr>\n",
      "    <td><tt>/med+/L[1]</tt></td>\n",
      "    <td>equivalent to <tt>/med/L1[0]</tt></td>\n",
      "    </tr>\n",
      "    <tr>\n",
      "    <td><tt>/med[L1,L2][0]</tt></td>\n",
      "    <td>selects two ports</td>\n",
      "    </tr>\n",
      "    <tr>\n",
      "    <td><tt>/med/L1[0,1]</tt></td>\n",
      "    <td>another example of two ports</td>\n",
      "    </tr>\n",
      "    <tr>\n",
      "    <td><tt>/med/L1[0],/med/L1[1]</tt></td>\n",
      "    <td>equivalent to <tt>/med/L1[0,1]</tt></td>\n",
      "    </tr>\n",
      "    <tr>\n",
      "    <td><tt>/med/L1[0:10]</tt></td>\n",
      "    <td>selects a range of 10 ports</td>\n",
      "    </tr>\n",
      "    <tr>\n",
      "    <td><tt>/med/L1/*</tt></td>\n",
      "    <td>selects all ports starting with <tt>/med/L1</tt></td>\n",
      "    </tr>\n",
      "    <tr>\n",
      "    <td><tt>(/med/L1,/med/L2)+[0]</tt></td>\n",
      "    <td>equivalent to <tt>/med/[L1,L2][0]</tt></td>\n",
      "    </tr>\n",
      "    <tr>\n",
      "    <td><tt>/med/[L1,L2].+[0:2]</tt></td>\n",
      "    <td>equivalent to <tt>/med/L1[0],/med/L2[1]</tt></td>\n",
      "    </tr>\n",
      "</table>"
     ]
    },
    {
     "cell_type": "heading",
     "level": 4,
     "metadata": {},
     "source": [
      "Inter-LPU Connectivity Patterns"
     ]
    },
    {
     "cell_type": "markdown",
     "metadata": {},
     "source": [
      "All connections between LPUs must be defined in inter-LPU connectivity patterns that map the output ports of one LPU to the input ports of another LPU. Since individual LPUs may internally implement multiplexing of input signals to a single destination in different ways, the LPU interface only permits fan-out from individual output ports to multiple input ports; connections from multiple output ports may not converge on a single input port. A single pattern may define connections in both directions.\n",
      "\n",
      "A connectivity pattern between two LPUs is fully specified by the identifiers and attributes of the ports in its two interfaces and the directed graph of connections defined between them. An example of such pattern defined between ports <tt>/lam[0:6]</tt> and <tt>/med[0:5]</tt> follows:\n",
      "\n",
      "<table>\n",
      "    <tr>\n",
      "    <th>Port</th><th>Interface</th><th>I/O</th><th>Port Type</th>\n",
      "    </tr>\n",
      "    <tr>\n",
      "    <td><tt>/lam[0]</tt></td><td><tt>0</tt></td><td><tt>in</tt></td><td><tt>graded potential</tt></td>\n",
      "    </tr>\n",
      "    <tr>\n",
      "    <td><tt>/lam[1]</tt></td><td><tt>0</tt></td><td><tt>in</tt></td><td><tt>graded potential</tt></td>\n",
      "    </tr>\n",
      "    <tr>\n",
      "    <td><tt>/lam[2]</tt></td><td><tt>0</tt></td><td><tt>out</tt></td><td><tt>graded potential</tt></td>\n",
      "    </tr>\n",
      "    <tr>\n",
      "    <td><tt>/lam[3]</tt></td><td><tt>0</tt></td><td><tt>out</tt></td><td><tt>spiking</tt></td>\n",
      "    </tr>\n",
      "    <tr>\n",
      "    <td><tt>/lam[4]</tt></td><td><tt>0</tt></td><td><tt>out</tt></td><td><tt>spiking</tt></td>\n",
      "    </tr>\n",
      "    <tr>\n",
      "    <td><tt>/lam[5]</tt></td><td><tt>0</tt></td><td><tt>out</tt></td><td><tt>spiking</tt></td>\n",
      "    </tr>\n",
      "    <tr>\n",
      "    <td><tt>/med[0]</tt></td><td><tt>1</tt></td><td><tt>out</tt></td><td><tt>graded potential</tt></td>\n",
      "    </tr>\n",
      "    <tr>\n",
      "    <td><tt>/med[1]</tt></td><td><tt>1</tt></td><td><tt>out</tt></td><td><tt>graded potential</tt></td>\n",
      "    </tr>\n",
      "    <tr>\n",
      "    <td><tt>/med[2]</tt></td><td><tt>1</tt></td><td><tt>out</tt></td><td><tt>graded potential</tt></td>\n",
      "    </tr>\n",
      "    <tr>\n",
      "    <td><tt>/med[3]</tt></td><td><tt>1</tt></td><td><tt>in</tt></td><td><tt>spiking</tt></td>\n",
      "    </tr>\n",
      "    <tr>\n",
      "    <td><tt>/med[4]</tt></td><td><tt>1</tt></td><td><tt>in</tt></td><td><tt>spiking</tt></td>\n",
      "    </tr>\n",
      "</table>\n",
      "\n",
      "<table>\n",
      "    <tr>\n",
      "    <th>From</th><th>To</th>\n",
      "    </tr>\n",
      "    <tr>\n",
      "    <td><tt>/lam[0]</tt></td><td><tt>/med[0]</tt></td>\n",
      "    </tr>\n",
      "    <tr>\n",
      "    <td><tt>/lam[0]</tt></td><td><tt>/med[1]</tt></td>\n",
      "    </tr>\n",
      "    <tr>\n",
      "    <td><tt>/lam[1]</tt></td><td><tt>/med[2]</tt></td>\n",
      "    </tr>\n",
      "    <tr>\n",
      "    <td><tt>/med[3]</tt></td><td><tt>/lam[3]</tt></td>\n",
      "    </tr>\n",
      "    <tr>\n",
      "    <td><tt>/med[4]</tt></td><td><tt>/lam[4]</tt></td>\n",
      "    </tr>\n",
      "    <tr>\n",
      "    <td><tt>/med[4]</tt></td><td><tt>/lam[5]</tt></td>\n",
      "    </tr>\n",
      "</table>"
     ]
    },
    {
     "cell_type": "heading",
     "level": 3,
     "metadata": {},
     "source": [
      "Using Neurokernel's API"
     ]
    },
    {
     "cell_type": "markdown",
     "metadata": {},
     "source": [
      "Neurokernel provides Python classes for defining LPUs and connectivity patterns that can be used to link them together. The former (``neurokernel.core.Module``) requires an LPU designer to implement all of the LPU's internals from the ground up; no explicit constraints are placed upon how the LPU uses GPU resources. In order to enable independently implemented LPUs to communicate with each other, each LPU must implement a method called ``run_step()`` called during each step of execution that consumes incoming data from other LPUs and produces data for transmission to other LPUs. The example below generates random data in its ``run_step()`` method:"
     ]
    },
    {
     "cell_type": "code",
     "collapsed": false,
     "input": [
      "import warnings\n",
      "warnings.filterwarnings(\"ignore\")\n",
      "import numpy as np\n",
      "\n",
      "from neurokernel.base import PORT_DATA, PORT_CTRL\n",
      "from neurokernel.core import Module\n",
      "\n",
      "class MyModule(Module):\n",
      "    def __init__(self, sel, \n",
      "                       sel_in_gpot, sel_in_spike,\n",
      "                       sel_out_gpot, sel_out_spike,\n",
      "                       data_gpot, data_spike,\n",
      "                       port_data=PORT_DATA, port_ctrl=PORT_CTRL,\n",
      "                       id=None, device=None):\n",
      "        super(MyModule, self).__init__(sel, ','.join([sel_in_gpot, sel_out_gpot]),\n",
      "                                                        ','.join([sel_in_spike, sel_out_spike]),\n",
      "                                                        data_gpot, data_spike,\n",
      "                                                        columns=['interface', 'io', 'type'],\n",
      "                                                        port_data=port_data, port_ctrl=port_ctrl,\n",
      "                                                        id=id, device=device)\n",
      "        \n",
      "        # Set up module interface using specified selectors:\n",
      "        self.interface[sel_in_gpot, 'io', 'type'] = ['in', 'gpot']\n",
      "        self.interface[sel_out_gpot, 'io', 'type'] = ['out', 'gpot']\n",
      "        self.interface[sel_in_spike, 'io', 'type'] = ['in', 'spike']\n",
      "        self.interface[sel_out_spike, 'io', 'type'] = ['out', 'spike']\n",
      "\n",
      "    # Process incoming data and set outgoing data:\n",
      "    def run_step(self):       \n",
      "        super(MyModule, self).run_step()\n",
      "\n",
      "        # Display input graded potential data:\n",
      "        in_gpot_ports = self.interface.in_ports().gpot_ports().to_tuples()\n",
      "        self.logger.info('input gpot port data: '+str(self.pm['gpot'][in_gpot_ports]))\n",
      "        \n",
      "        # Display input spike data:\n",
      "        in_spike_ports = self.interface.in_ports().spike_ports().to_tuples()\n",
      "        self.logger.info('input spike port data: '+str(self.pm['spike'][in_spike_ports]))\n",
      "\n",
      "        # Output random graded potential data:\n",
      "        out_gpot_ports = self.interface.out_ports().gpot_ports().to_tuples()\n",
      "        self.pm['gpot'][out_gpot_ports] = np.random.rand(len(out_gpot_ports))\n",
      "            \n",
      "        # Randomly select output ports to emit spikes:\n",
      "        out_spike_ports = self.interface.out_ports().spike_ports().to_tuples()\n",
      "        self.pm['spike'][out_spike_ports] = np.random.randint(0, 2, len(out_spike_ports))"
     ],
     "language": "python",
     "metadata": {},
     "outputs": [],
     "prompt_number": 1
    },
    {
     "cell_type": "markdown",
     "metadata": {},
     "source": [
      "Notice that every LPU instance must be associated with a unique identifier (``id``). An LPU contains a port-mapper attribute (``pm``) that maps input and output ports to a data array that may be accessed by the LPU's internal implementation; after each step of execution, the array associated with the port-mapper is updated with input data from source LPUs while output data from the array is transmitted to destination LPUs.  "
     ]
    },
    {
     "cell_type": "markdown",
     "metadata": {},
     "source": [
      "One can instantiate the above LPU class as follows: "
     ]
    },
    {
     "cell_type": "code",
     "collapsed": false,
     "input": [
      "from neurokernel.plsel import PathLikeSelector\n",
      "from neurokernel.tools.comm import get_random_port\n",
      "\n",
      "port_data = get_random_port()\n",
      "port_ctrl = get_random_port()\n",
      "\n",
      "m1_int_sel_in_gpot = '/a/in/gpot0,/a/in/gpot1'\n",
      "m1_int_sel_out_gpot = '/a/out/gpot0,/a/out/gpot1'\n",
      "m1_int_sel_in_spike = '/a/in/spike0,/a/in/spike1'\n",
      "m1_int_sel_out_spike = '/a/out/spike0,/a/out/spike1'\n",
      "m1_int_sel = ','.join([m1_int_sel_in_gpot, m1_int_sel_out_gpot,\n",
      "                                 m1_int_sel_in_spike, m1_int_sel_out_spike])\n",
      "N1_gpot = PathLikeSelector.count_ports(','.join([m1_int_sel_in_gpot, m1_int_sel_out_gpot]))\n",
      "N1_spike = PathLikeSelector.count_ports(','.join([m1_int_sel_in_spike, m1_int_sel_out_spike]))\n",
      "m1 = MyModule(m1_int_sel,\n",
      "                           m1_int_sel_in_gpot, m1_int_sel_in_spike,\n",
      "                           m1_int_sel_out_gpot, m1_int_sel_out_spike,\n",
      "                           np.zeros(N1_gpot, np.float64),\n",
      "                           np.zeros(N1_spike, int),\n",
      "                           port_data, port_ctrl, 'm1')\n",
      "\n",
      "m2_int_sel_in_gpot = '/b/in/gpot0,/b/in/gpot1'\n",
      "m2_int_sel_out_gpot = '/b/out/gpot0,/b/out/gpot1'\n",
      "m2_int_sel_in_spike = '/b/in/spike0,/b/in/spike1'\n",
      "m2_int_sel_out_spike = '/b/out/spike0,/b/out/spike1'\n",
      "m2_int_sel = ','.join([m2_int_sel_in_gpot, m2_int_sel_out_gpot,\n",
      "                                 m2_int_sel_in_spike, m2_int_sel_out_spike])\n",
      "N2_gpot = PathLikeSelector.count_ports(','.join([m2_int_sel_in_gpot, m2_int_sel_out_gpot]))\n",
      "N2_spike = PathLikeSelector.count_ports(','.join([m2_int_sel_in_spike, m2_int_sel_out_spike]))\n",
      "m2 = MyModule(m2_int_sel,\n",
      "                           m2_int_sel_in_gpot, m2_int_sel_in_spike,\n",
      "                           m2_int_sel_out_gpot, m2_int_sel_out_spike,\n",
      "                           np.zeros(N2_gpot, np.float64),\n",
      "                           np.zeros(N2_spike, int),\n",
      "                           port_data, port_ctrl, 'm2')"
     ],
     "language": "python",
     "metadata": {},
     "outputs": [],
     "prompt_number": 2
    },
    {
     "cell_type": "markdown",
     "metadata": {},
     "source": [
      "Using the ports in each of the above LPUs' interfaces, one can define a connectivity pattern between them as follows:"
     ]
    },
    {
     "cell_type": "code",
     "collapsed": false,
     "input": [
      "from neurokernel.pattern import Pattern\n",
      "\n",
      "pat12 = Pattern(m1_int_sel, m2_int_sel)\n",
      "\n",
      "# Set port attributes:\n",
      "pat12.interface[m1_int_sel_out_gpot] = [0, 'in', 'gpot']\n",
      "pat12.interface[m1_int_sel_in_gpot] = [0, 'out', 'gpot']\n",
      "pat12.interface[m1_int_sel_out_spike] = [0, 'in', 'spike']\n",
      "pat12.interface[m1_int_sel_in_spike] = [0, 'out', 'spike']\n",
      "pat12.interface[m2_int_sel_in_gpot] = [1, 'out', 'gpot']\n",
      "pat12.interface[m2_int_sel_out_gpot] = [1, 'in', 'gpot']\n",
      "pat12.interface[m2_int_sel_in_spike] = [1, 'out', 'spike']\n",
      "pat12.interface[m2_int_sel_out_spike] = [1, 'in', 'spike']\n",
      "\n",
      "# Define connections:\n",
      "pat12['/a/out/gpot0', '/b/in/gpot0'] = 1\n",
      "pat12['/a/out/gpot1', '/b/in/gpot1'] = 1\n",
      "pat12['/b/out/gpot0', '/a/in/gpot0'] = 1\n",
      "pat12['/b/out/gpot1', '/a/in/gpot1'] = 1\n",
      "pat12['/a/out/spike0', '/b/in/spike0'] = 1\n",
      "pat12['/a/out/spike1', '/b/in/spike1'] = 1\n",
      "pat12['/b/out/spike0', '/a/in/spike0'] = 1\n",
      "pat12['/b/out/spike1', '/a/in/spike1'] = 1"
     ],
     "language": "python",
     "metadata": {},
     "outputs": [],
     "prompt_number": 3
    },
    {
     "cell_type": "heading",
     "level": 3,
     "metadata": {},
     "source": [
      "A Simple Example: Creating an LPU"
     ]
    },
    {
     "cell_type": "markdown",
     "metadata": {},
     "source": [
      "To obviate the need to implement an LPU completely from scratch, Neurokernel also contains a functional LPU class (``neurokernel.LPU.LPU.LPU``) that supports the following neuron and synapse models:\n",
      "\n",
      "* Leaky Integrate-and-Fire (LIF) neuron (spiking neuron)\n",
      "* Morris-Lecar (ML) neuron (graded potential neuron), \n",
      "* Alpha function synapse\n",
      "* Conductance-based synapse (referred to as ``power_gpot_gpot``).  \n",
      "\n",
      "Note that although the ML model can in principle be configured as a spiking neuron model, the implementation in the LPU class is configured to output its membrane potential.\n",
      "\n",
      "Alpha function synapses may be used to connect any type of presynaptic neuron to any type of of postsynaptic neuron; the neuron presynaptic to a conductance-based synapse must be a graded potential neuron.\n",
      "\n",
      "It should be emphasized that the above LPU implementation and the currently support models are not necessarily optimal and may be replaced with improved implementations in the future."
     ]
    },
    {
     "cell_type": "markdown",
     "metadata": {},
     "source": [
      "The ``LPU`` class provided by Neurokernel may be instantiated with a graph describing its internal structure. The graph must be stored in [GEXF](http://gexf.net) file format with nodes and edges respectively corresponding to instances of the supported neuron and synapse models. To facilitate construction of an LPU, the [networkx](http://networkx.github.io) Python package may be used to set the parameters of the model instances. For example, the following code defines a simple network consisting of an LIF neuron with a single synaptic connection to an ML neuron; the synaptic current elicited by the LIF neuron's spikes is modeled by an alpha function:"
     ]
    },
    {
     "cell_type": "code",
     "collapsed": false,
     "input": [
      "import numpy as np\n",
      "import networkx as nx\n",
      "\n",
      "G = nx.DiGraph() # or nx.MultiDiGraph()\n",
      "G.add_nodes_from([0, 1])\n",
      "G.node[0] = {\n",
      "    'model': 'LeakyIAF',\n",
      "    'name': 'neuron_0',\n",
      "    'extern': True,     # indicates whether the neuron can receive an external input signal\n",
      "    'public': True,      # indicates whether the neuron can emit output to other LPUs \n",
      "    'spiking': True,    # indicates whether the neuron's output is spikes or its membrane voltage\n",
      "    'selector': '/a[0]', # every public neuron must have a selector\n",
      "    'V': np.random.uniform(-0.06, -0.025), # initial membrane voltage\n",
      "    'Vr': -0.0675489770451,                # reset voltage\n",
      "    'Vt': -0.0251355161007,                # spike threshold\n",
      "    'R': 1.02445570216,                    # membrane resistance\n",
      "    'C': 0.0669810502993}                  # membrane capacitance\n",
      "G.node[1] = {\n",
      "    'model': \"MorrisLecar\",\n",
      "    'name': 'neuron_1',\n",
      "    'extern': False,\n",
      "    'public': True,\n",
      "    'spiking': False,\n",
      "    'selector': '/a[1]',\n",
      "    'V1': 0.03,\n",
      "    'V2': 0.015,\n",
      "    'V3': 0,\n",
      "    'V4': 0.03,\n",
      "    'phi': 0.025,\n",
      "    'offset': 0,\n",
      "    'initV': -0.05214,\n",
      "    'initn': 0.03}\n",
      "G.add_edge(0, 1, type='directed', attr_dict={\n",
      "    'model': 'AlphaSynapse',\n",
      "    'name': 'synapse_0_1',\n",
      "    'class': 0,           # 0 = spike->spike, 1 = spike->gpot, 2 = 'gpot->spike', 3 = 'gpot->gpot'\n",
      "    'ar': 1.1*1e2,        # decay rate\n",
      "    'ad': 1.9*1e3,        # rise rate\n",
      "    'reverse': 65*1e-3,   #\n",
      "    'gmax': 2*1e-3,       # maximum conductance\n",
      "    'conductance': True}) # indicates whether the synapse's output is a conductance or current\n",
      "nx.write_gexf(G, 'simple_lpu.gexf.gz')"
     ],
     "language": "python",
     "metadata": {},
     "outputs": [],
     "prompt_number": 4
    },
    {
     "cell_type": "markdown",
     "metadata": {},
     "source": [
      "We can prepare a simple pulse input and save it in an HDF5 file to pass to ``neuron_0`` as follows:"
     ]
    },
    {
     "cell_type": "code",
     "collapsed": false,
     "input": [
      "import h5py\n",
      "\n",
      "dt = 1e-4           # time resolution of model execution in seconds\n",
      "dur = 1.0           # duration in seconds\n",
      "Nt = int(dur/dt)    # number of data points in time\n",
      "\n",
      "start = 0.3\n",
      "stop = 0.6\n",
      "\n",
      "I_max = 0.6\n",
      "t = np.arange(0, dt*Nt, dt)\n",
      "I = np.zeros((Nt, 1), dtype=np.double)\n",
      "I[np.logical_and(t>start, t<stop)] = I_max\n",
      "\n",
      "with h5py.File('simple_input.h5', 'w') as f:\n",
      "    f.create_dataset('array', (Nt, 1),\n",
      "                     dtype=np.double,\n",
      "                     data=I)"
     ],
     "language": "python",
     "metadata": {},
     "outputs": [],
     "prompt_number": 5
    },
    {
     "cell_type": "markdown",
     "metadata": {},
     "source": [
      "The LPU defined earlier can be instantiated and executed as follows:"
     ]
    },
    {
     "cell_type": "code",
     "collapsed": false,
     "input": [
      "from neurokernel.core import Manager\n",
      "from neurokernel.LPU.LPU import LPU\n",
      "from neurokernel.tools.comm import get_random_port\n",
      "\n",
      "port_data = get_random_port()\n",
      "port_ctrl = get_random_port()\n",
      "\n",
      "(n_dict, s_dict) = LPU.lpu_parser('simple_lpu.gexf.gz')\n",
      "lpu = LPU(dt, n_dict, s_dict, \n",
      "          input_file='simple_input.h5',\n",
      "          output_file='simple_output.h5',\n",
      "          port_ctrl=port_ctrl, port_data=port_data,\n",
      "          device=0, id='simple',\n",
      "          debug=False)\n",
      "\n",
      "man = Manager(port_data, port_ctrl)\n",
      "man.add_brok()\n",
      "man.add_mod(lpu)\n",
      "man.start(steps=Nt)\n",
      "man.stop()"
     ],
     "language": "python",
     "metadata": {},
     "outputs": [],
     "prompt_number": 6
    },
    {
     "cell_type": "markdown",
     "metadata": {},
     "source": [
      "The spikes emitted by ``neuron_0`` and the membrane potential of ``neuron_1`` are respectively stored in ``simple_output_spike.h5`` and ``simple_output_gpot.h5``. These can be visualized using a built-in LPU output visualization class that can render the output in video and image format:"
     ]
    },
    {
     "cell_type": "code",
     "collapsed": false,
     "input": [
      "import matplotlib as mpl\n",
      "mpl.use('agg')\n",
      "\n",
      "import neurokernel.LPU.utils.visualizer as vis\n",
      "import networkx as nx\n",
      "\n",
      "# Temporary fix for bug in networkx 1.8:\n",
      "nx.readwrite.gexf.GEXF.convert_bool = {'false':False, 'False':False,\n",
      "                                       'true':True, 'True':True}\n",
      "\n",
      "V = vis.visualizer()\n",
      "\n",
      "V.add_LPU('simple_input.h5', LPU='Input')\n",
      "V.add_plot({'type': 'waveform', 'ids': [[0]]}, 'input_Input')\n",
      "\n",
      "V.add_LPU('simple_output_spike.h5',\n",
      "          './simple_lpu.gexf.gz', 'Simple LPU (Spikes)')\n",
      "V.add_plot({'type':'raster', 'ids': {0: [0]},\n",
      "            'yticks': [0], 'yticklabels': [0]},\n",
      "            'Simple LPU (Spikes)','Output')\n",
      "V.add_LPU('simple_output_gpot.h5',\n",
      "          './simple_lpu.gexf.gz', 'Simple LPU (Graded Potential)')\n",
      "V.add_plot({'type': 'waveform', 'ids': {0:[0]}},\n",
      "            'Simple LPU (Graded Potential)', 'Output')\n",
      "\n",
      "V._update_interval = 50\n",
      "V.rows = 3\n",
      "V.cols = 1\n",
      "V.fontsize = 10\n",
      "V.out_filename = 'simple_output.avi'\n",
      "V.codec = 'libtheora'\n",
      "V.dt = 0.0001\n",
      "V.xlim = [0, 1.0]\n",
      "V.figsize = (6, 4)\n",
      "V.run('simple_output.png', 120)\n",
      "\n",
      "# Don't automatically display the output image:\n",
      "plt.close(gcf())"
     ],
     "language": "python",
     "metadata": {},
     "outputs": [],
     "prompt_number": 7
    },
    {
     "cell_type": "markdown",
     "metadata": {},
     "source": [
      "Here is the generated image of the output:"
     ]
    },
    {
     "cell_type": "markdown",
     "metadata": {},
     "source": [
      "<img src='files/simple_output.png' />"
     ]
    },
    {
     "cell_type": "heading",
     "level": 3,
     "metadata": {},
     "source": [
      "A More Complex Example: Connecting LPUs"
     ]
    },
    {
     "cell_type": "markdown",
     "metadata": {},
     "source": [
      "The following example demonstrates the creation and connection of two LPUs containing multiple neurons with a connectivity pattern. The number of neurons and synapses in each of the LPUs' internal populations are randomly generated: the number of neurons in each populations is randomly selected between 30 to 40. The LPUs' projection neurons - as well as populations of input neurons presynaptic to the LPUs that accept an input stimulus - are modeled as LIF neurons, while each of the local neurons is modeled as either an LIF neuron or a graded potential ML neuron. Synaptic currents are modeled with alpha functions. Synapses between the LPU's local and projection neurons, as well as synpases between the input neurons and the LPU's internal neurons, are also created randomly; roughly half of the total number of pairs of neurons are connected. \n",
      "\n",
      "To generate the LPUs and input signals used in this demo, we run the following script:"
     ]
    },
    {
     "cell_type": "code",
     "collapsed": false,
     "input": [
      "%cd -q ~/neurokernel/examples/intro/data\n",
      "%run gen_generic_lpu.py -s 0 -l lpu_0 generic_lpu_0.gexf.gz generic_lpu_0_input.h5\n",
      "%run gen_generic_lpu.py -s 1 -l lpu_1 generic_lpu_1.gexf.gz generic_lpu_1_input.h5"
     ],
     "language": "python",
     "metadata": {},
     "outputs": [],
     "prompt_number": 8
    },
    {
     "cell_type": "markdown",
     "metadata": {},
     "source": [
      "Since the neurons and synapses in the generated LPUs are stored in GEXF format, they can be easily accessed using networkx and [pandas](http://pandas.pydata.org). Neurokernel provides a convenience function to convert between networkx graphs and pandas' DataFrame class:"
     ]
    },
    {
     "cell_type": "code",
     "collapsed": false,
     "input": [
      "import neurokernel.tools.graph\n",
      "g_0 = nx.read_gexf('generic_lpu_0.gexf.gz')\n",
      "df_neu_0, df_syn_0 = neurokernel.tools.graph.graph_to_df(g_0)"
     ],
     "language": "python",
     "metadata": {},
     "outputs": [],
     "prompt_number": 9
    },
    {
     "cell_type": "markdown",
     "metadata": {},
     "source": [
      "Say one wishes to explore several LIF neurons in LPU 0. Here is how to access their parameters:"
     ]
    },
    {
     "cell_type": "code",
     "collapsed": false,
     "input": [
      "df_neu_0[df_neu_0['model'] == 'LeakyIAF'][50:55][['name','selector','model','extern',\n",
      "                                'public','spiking','V','Vr','Vt','R','C']] "
     ],
     "language": "python",
     "metadata": {},
     "outputs": [
      {
       "html": [
        "<div style=\"max-height:1000px;max-width:1500px;overflow:auto;\">\n",
        "<table border=\"1\" class=\"dataframe\">\n",
        "  <thead>\n",
        "    <tr style=\"text-align: right;\">\n",
        "      <th></th>\n",
        "      <th>name</th>\n",
        "      <th>selector</th>\n",
        "      <th>model</th>\n",
        "      <th>extern</th>\n",
        "      <th>public</th>\n",
        "      <th>spiking</th>\n",
        "      <th>V</th>\n",
        "      <th>Vr</th>\n",
        "      <th>Vt</th>\n",
        "      <th>R</th>\n",
        "      <th>C</th>\n",
        "    </tr>\n",
        "  </thead>\n",
        "  <tbody>\n",
        "    <tr>\n",
        "      <th>70</th>\n",
        "      <td> proj_3_s</td>\n",
        "      <td> /lpu_0/out/spk/3</td>\n",
        "      <td> LeakyIAF</td>\n",
        "      <td> False</td>\n",
        "      <td> True</td>\n",
        "      <td> True</td>\n",
        "      <td>-0.04021839</td>\n",
        "      <td>-0.06754898</td>\n",
        "      <td>-0.02513552</td>\n",
        "      <td> 1.024456</td>\n",
        "      <td> 0.06698105</td>\n",
        "    </tr>\n",
        "    <tr>\n",
        "      <th>71</th>\n",
        "      <td> proj_4_s</td>\n",
        "      <td> /lpu_0/out/spk/4</td>\n",
        "      <td> LeakyIAF</td>\n",
        "      <td> False</td>\n",
        "      <td> True</td>\n",
        "      <td> True</td>\n",
        "      <td>-0.02972141</td>\n",
        "      <td>-0.06754898</td>\n",
        "      <td>-0.02513552</td>\n",
        "      <td> 1.024456</td>\n",
        "      <td> 0.06698105</td>\n",
        "    </tr>\n",
        "    <tr>\n",
        "      <th>72</th>\n",
        "      <td> proj_5_s</td>\n",
        "      <td> /lpu_0/out/spk/5</td>\n",
        "      <td> LeakyIAF</td>\n",
        "      <td> False</td>\n",
        "      <td> True</td>\n",
        "      <td> True</td>\n",
        "      <td>-0.04218609</td>\n",
        "      <td>-0.06754898</td>\n",
        "      <td>-0.02513552</td>\n",
        "      <td> 1.024456</td>\n",
        "      <td> 0.06698105</td>\n",
        "    </tr>\n",
        "    <tr>\n",
        "      <th>73</th>\n",
        "      <td> proj_6_s</td>\n",
        "      <td> /lpu_0/out/spk/6</td>\n",
        "      <td> LeakyIAF</td>\n",
        "      <td> False</td>\n",
        "      <td> True</td>\n",
        "      <td> True</td>\n",
        "      <td> -0.0279147</td>\n",
        "      <td>-0.06754898</td>\n",
        "      <td>-0.02513552</td>\n",
        "      <td> 1.024456</td>\n",
        "      <td> 0.06698105</td>\n",
        "    </tr>\n",
        "    <tr>\n",
        "      <th>74</th>\n",
        "      <td> proj_7_s</td>\n",
        "      <td> /lpu_0/out/spk/7</td>\n",
        "      <td> LeakyIAF</td>\n",
        "      <td> False</td>\n",
        "      <td> True</td>\n",
        "      <td> True</td>\n",
        "      <td>-0.02775948</td>\n",
        "      <td>-0.06754898</td>\n",
        "      <td>-0.02513552</td>\n",
        "      <td> 1.024456</td>\n",
        "      <td> 0.06698105</td>\n",
        "    </tr>\n",
        "  </tbody>\n",
        "</table>\n",
        "</div>"
       ],
       "metadata": {},
       "output_type": "pyout",
       "prompt_number": 10,
       "text": [
        "        name          selector     model extern public spiking           V  \\\n",
        "70  proj_3_s  /lpu_0/out/spk/3  LeakyIAF  False   True    True -0.04021839   \n",
        "71  proj_4_s  /lpu_0/out/spk/4  LeakyIAF  False   True    True -0.02972141   \n",
        "72  proj_5_s  /lpu_0/out/spk/5  LeakyIAF  False   True    True -0.04218609   \n",
        "73  proj_6_s  /lpu_0/out/spk/6  LeakyIAF  False   True    True  -0.0279147   \n",
        "74  proj_7_s  /lpu_0/out/spk/7  LeakyIAF  False   True    True -0.02775948   \n",
        "\n",
        "            Vr          Vt         R           C  \n",
        "70 -0.06754898 -0.02513552  1.024456  0.06698105  \n",
        "71 -0.06754898 -0.02513552  1.024456  0.06698105  \n",
        "72 -0.06754898 -0.02513552  1.024456  0.06698105  \n",
        "73 -0.06754898 -0.02513552  1.024456  0.06698105  \n",
        "74 -0.06754898 -0.02513552  1.024456  0.06698105  "
       ]
      }
     ],
     "prompt_number": 10
    },
    {
     "cell_type": "markdown",
     "metadata": {},
     "source": [
      "Say one wishes to find the parameters of the synapses linking neuron ``output_3_s`` to other destination neurons; these can be accessed using the following query:"
     ]
    },
    {
     "cell_type": "code",
     "collapsed": false,
     "input": [
      "ind = df_syn_0['name'].str.startswith('proj_3_s')\n",
      "df_syn_0[ind][['name','model','class','ar','ad','reverse','gmax','conductance']]"
     ],
     "language": "python",
     "metadata": {},
     "outputs": [
      {
       "html": [
        "<div style=\"max-height:1000px;max-width:1500px;overflow:auto;\">\n",
        "<table border=\"1\" class=\"dataframe\">\n",
        "  <thead>\n",
        "    <tr style=\"text-align: right;\">\n",
        "      <th></th>\n",
        "      <th></th>\n",
        "      <th>name</th>\n",
        "      <th>model</th>\n",
        "      <th>class</th>\n",
        "      <th>ar</th>\n",
        "      <th>ad</th>\n",
        "      <th>reverse</th>\n",
        "      <th>gmax</th>\n",
        "      <th>conductance</th>\n",
        "    </tr>\n",
        "  </thead>\n",
        "  <tbody>\n",
        "    <tr>\n",
        "      <th rowspan=\"12\" valign=\"top\">70</th>\n",
        "      <th>37</th>\n",
        "      <td>  proj_3_s-local_1_s</td>\n",
        "      <td> AlphaSynapse</td>\n",
        "      <td> 0</td>\n",
        "      <td> 110</td>\n",
        "      <td> 1900</td>\n",
        "      <td> 0.065</td>\n",
        "      <td>   0.003</td>\n",
        "      <td> True</td>\n",
        "    </tr>\n",
        "    <tr>\n",
        "      <th>42</th>\n",
        "      <td>  proj_3_s-local_6_g</td>\n",
        "      <td> AlphaSynapse</td>\n",
        "      <td> 1</td>\n",
        "      <td> 110</td>\n",
        "      <td> 1900</td>\n",
        "      <td>  0.01</td>\n",
        "      <td> 0.00031</td>\n",
        "      <td> True</td>\n",
        "    </tr>\n",
        "    <tr>\n",
        "      <th>45</th>\n",
        "      <td>  proj_3_s-local_9_g</td>\n",
        "      <td> AlphaSynapse</td>\n",
        "      <td> 1</td>\n",
        "      <td> 110</td>\n",
        "      <td> 1900</td>\n",
        "      <td>  0.01</td>\n",
        "      <td> 0.00031</td>\n",
        "      <td> True</td>\n",
        "    </tr>\n",
        "    <tr>\n",
        "      <th>47</th>\n",
        "      <td> proj_3_s-local_11_g</td>\n",
        "      <td> AlphaSynapse</td>\n",
        "      <td> 1</td>\n",
        "      <td> 110</td>\n",
        "      <td> 1900</td>\n",
        "      <td>  0.01</td>\n",
        "      <td> 0.00031</td>\n",
        "      <td> True</td>\n",
        "    </tr>\n",
        "    <tr>\n",
        "      <th>48</th>\n",
        "      <td> proj_3_s-local_12_g</td>\n",
        "      <td> AlphaSynapse</td>\n",
        "      <td> 1</td>\n",
        "      <td> 110</td>\n",
        "      <td> 1900</td>\n",
        "      <td>  0.01</td>\n",
        "      <td> 0.00031</td>\n",
        "      <td> True</td>\n",
        "    </tr>\n",
        "    <tr>\n",
        "      <th>50</th>\n",
        "      <td> proj_3_s-local_14_g</td>\n",
        "      <td> AlphaSynapse</td>\n",
        "      <td> 1</td>\n",
        "      <td> 110</td>\n",
        "      <td> 1900</td>\n",
        "      <td>  0.01</td>\n",
        "      <td> 0.00031</td>\n",
        "      <td> True</td>\n",
        "    </tr>\n",
        "    <tr>\n",
        "      <th>55</th>\n",
        "      <td> proj_3_s-local_19_g</td>\n",
        "      <td> AlphaSynapse</td>\n",
        "      <td> 1</td>\n",
        "      <td> 110</td>\n",
        "      <td> 1900</td>\n",
        "      <td>  0.01</td>\n",
        "      <td> 0.00031</td>\n",
        "      <td> True</td>\n",
        "    </tr>\n",
        "    <tr>\n",
        "      <th>57</th>\n",
        "      <td> proj_3_s-local_21_s</td>\n",
        "      <td> AlphaSynapse</td>\n",
        "      <td> 0</td>\n",
        "      <td> 110</td>\n",
        "      <td> 1900</td>\n",
        "      <td> 0.065</td>\n",
        "      <td>   0.003</td>\n",
        "      <td> True</td>\n",
        "    </tr>\n",
        "    <tr>\n",
        "      <th>59</th>\n",
        "      <td> proj_3_s-local_23_g</td>\n",
        "      <td> AlphaSynapse</td>\n",
        "      <td> 1</td>\n",
        "      <td> 110</td>\n",
        "      <td> 1900</td>\n",
        "      <td>  0.01</td>\n",
        "      <td> 0.00031</td>\n",
        "      <td> True</td>\n",
        "    </tr>\n",
        "    <tr>\n",
        "      <th>63</th>\n",
        "      <td> proj_3_s-local_27_s</td>\n",
        "      <td> AlphaSynapse</td>\n",
        "      <td> 0</td>\n",
        "      <td> 110</td>\n",
        "      <td> 1900</td>\n",
        "      <td> 0.065</td>\n",
        "      <td>   0.003</td>\n",
        "      <td> True</td>\n",
        "    </tr>\n",
        "    <tr>\n",
        "      <th>64</th>\n",
        "      <td> proj_3_s-local_28_g</td>\n",
        "      <td> AlphaSynapse</td>\n",
        "      <td> 1</td>\n",
        "      <td> 110</td>\n",
        "      <td> 1900</td>\n",
        "      <td>  0.01</td>\n",
        "      <td> 0.00031</td>\n",
        "      <td> True</td>\n",
        "    </tr>\n",
        "    <tr>\n",
        "      <th>65</th>\n",
        "      <td> proj_3_s-local_29_s</td>\n",
        "      <td> AlphaSynapse</td>\n",
        "      <td> 0</td>\n",
        "      <td> 110</td>\n",
        "      <td> 1900</td>\n",
        "      <td> 0.065</td>\n",
        "      <td>   0.003</td>\n",
        "      <td> True</td>\n",
        "    </tr>\n",
        "  </tbody>\n",
        "</table>\n",
        "</div>"
       ],
       "metadata": {},
       "output_type": "pyout",
       "prompt_number": 11,
       "text": [
        "                      name         model class   ar    ad reverse     gmax  \\\n",
        "70 37   proj_3_s-local_1_s  AlphaSynapse     0  110  1900   0.065    0.003   \n",
        "   42   proj_3_s-local_6_g  AlphaSynapse     1  110  1900    0.01  0.00031   \n",
        "   45   proj_3_s-local_9_g  AlphaSynapse     1  110  1900    0.01  0.00031   \n",
        "   47  proj_3_s-local_11_g  AlphaSynapse     1  110  1900    0.01  0.00031   \n",
        "   48  proj_3_s-local_12_g  AlphaSynapse     1  110  1900    0.01  0.00031   \n",
        "   50  proj_3_s-local_14_g  AlphaSynapse     1  110  1900    0.01  0.00031   \n",
        "   55  proj_3_s-local_19_g  AlphaSynapse     1  110  1900    0.01  0.00031   \n",
        "   57  proj_3_s-local_21_s  AlphaSynapse     0  110  1900   0.065    0.003   \n",
        "   59  proj_3_s-local_23_g  AlphaSynapse     1  110  1900    0.01  0.00031   \n",
        "   63  proj_3_s-local_27_s  AlphaSynapse     0  110  1900   0.065    0.003   \n",
        "   64  proj_3_s-local_28_g  AlphaSynapse     1  110  1900    0.01  0.00031   \n",
        "   65  proj_3_s-local_29_s  AlphaSynapse     0  110  1900   0.065    0.003   \n",
        "\n",
        "      conductance  \n",
        "70 37        True  \n",
        "   42        True  \n",
        "   45        True  \n",
        "   47        True  \n",
        "   48        True  \n",
        "   50        True  \n",
        "   55        True  \n",
        "   57        True  \n",
        "   59        True  \n",
        "   63        True  \n",
        "   64        True  \n",
        "   65        True  "
       ]
      }
     ],
     "prompt_number": 11
    },
    {
     "cell_type": "markdown",
     "metadata": {},
     "source": [
      "Once the configuration and the input stimulus are ready, we execute the entire model both with and without connections defined between the LPUs:"
     ]
    },
    {
     "cell_type": "code",
     "collapsed": false,
     "input": [
      "%cd -q ~/neurokernel/examples/intro\n",
      "%run intro_demo.py"
     ],
     "language": "python",
     "metadata": {},
     "outputs": [],
     "prompt_number": 12
    },
    {
     "cell_type": "markdown",
     "metadata": {},
     "source": [
      "Finally, we generate videos that depict the progress of the model execution with and without connections between the LPUs:"
     ]
    },
    {
     "cell_type": "code",
     "collapsed": false,
     "input": [
      "%run visualize_output.py"
     ],
     "language": "python",
     "metadata": {},
     "outputs": [],
     "prompt_number": 13
    },
    {
     "cell_type": "markdown",
     "metadata": {},
     "source": [
      "Here is the output of the unconnected LPUs:"
     ]
    },
    {
     "cell_type": "code",
     "collapsed": false,
     "input": [
      "IPython.display.YouTubeVideo('FY810D-hhD8')"
     ],
     "language": "python",
     "metadata": {},
     "outputs": [
      {
       "html": [
        "\n",
        "        <iframe\n",
        "            width=\"400\"\n",
        "            height=300\"\n",
        "            src=\"http://www.youtube.com/embed/FY810D-hhD8\"\n",
        "            frameborder=\"0\"\n",
        "            allowfullscreen\n",
        "        ></iframe>\n",
        "        "
       ],
       "metadata": {},
       "output_type": "pyout",
       "prompt_number": 14,
       "text": [
        "<IPython.lib.display.YouTubeVideo at 0x47121d0>"
       ]
      }
     ],
     "prompt_number": 14
    },
    {
     "cell_type": "markdown",
     "metadata": {},
     "source": [
      "Here is the output of the LPUs with synaptic connections from neurons in LPU 0 to LPU 1:"
     ]
    },
    {
     "cell_type": "code",
     "collapsed": false,
     "input": [
      "IPython.display.YouTubeVideo('U2FGNbQ5ibg')"
     ],
     "language": "python",
     "metadata": {},
     "outputs": [
      {
       "html": [
        "\n",
        "        <iframe\n",
        "            width=\"400\"\n",
        "            height=300\"\n",
        "            src=\"http://www.youtube.com/embed/U2FGNbQ5ibg\"\n",
        "            frameborder=\"0\"\n",
        "            allowfullscreen\n",
        "        ></iframe>\n",
        "        "
       ],
       "metadata": {},
       "output_type": "pyout",
       "prompt_number": 15,
       "text": [
        "<IPython.lib.display.YouTubeVideo at 0x4712150>"
       ]
      }
     ],
     "prompt_number": 15
    },
    {
     "cell_type": "markdown",
     "metadata": {},
     "source": [
      "If one compares the two videos, one will observe that the output of LPU 0 in both videos remains the same while that of LPU 1 exhibits changes when connected to LPU 0. This confirms that the one-way connectivity pattern defined earlier is transmitting data from one LPU to the other during model execution."
     ]
    },
    {
     "cell_type": "heading",
     "level": 3,
     "metadata": {},
     "source": [
      "References"
     ]
    },
    {
     "cell_type": "markdown",
     "metadata": {},
     "source": [
      "<a name=\"chiang_three-dimensional_2011\"></a>Chiang, A.-S., Lin, C.-Y., Chuang, C.-C., Chang, H.-M., Hsieh, C.-H., Yeh, C.-W., et al. (2011), Three-dimensional reconstruction of brain-wide wiring networks in Drosophila at single-cell resolution, Current Biology, 21, 1, 1\u201311, doi:10.1016/j.cub.2010.11.056"
     ]
    }
   ],
   "metadata": {}
  }
 ]
}
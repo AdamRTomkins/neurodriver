{
 "metadata": {
  "name": ""
 },
 "nbformat": 3,
 "nbformat_minor": 0,
 "worksheets": [
  {
   "cells": [
    {
     "cell_type": "heading",
     "level": 1,
     "metadata": {},
     "source": [
      "Examining Execution Time of Multiple LPUs on Multiple GPUs"
     ]
    },
    {
     "cell_type": "markdown",
     "metadata": {},
     "source": [
      "This notebook illustrates the execution of several connected generic LPUs on multiple GPUs to examine the overall performance of the entire model."
     ]
    },
    {
     "cell_type": "markdown",
     "metadata": {},
     "source": [
      "To examine how the performance of a Neurokernel-based neural model varies depending on the number of GPUs used, this demo instantiates a specified number of generic LPUs comprising both spiking and graded potential neurons and connects the spiking output neurons in each LPU with alpha function synapses. A simple pulse input signal is provided to one of the LPUs. "
     ]
    },
    {
     "cell_type": "markdown",
     "metadata": {},
     "source": [
      "Assuming that the Neurokernel source code has been has been cloned to ``~/neurokernel``, we can construct and run the model as follows. The parameters specify a model comprising 30 sensory neurons connected to one LPU and a total of 2 LPUs, each containing 30 local neurons and 30 output neurons. The model is run for a duration of 1 second."
     ]
    },
    {
     "cell_type": "code",
     "collapsed": false,
     "input": [
      "%cd -q ~/neurokernel/examples/multi\n",
      "%run multi_demo.py -y 30 -n 30 -o 30 -u 2"
     ],
     "language": "python",
     "metadata": {},
     "outputs": [
      {
       "output_type": "stream",
       "stream": "stdout",
       "text": [
        "time:  62.5922379494\n"
       ]
      }
     ],
     "prompt_number": 1
    },
    {
     "cell_type": "markdown",
     "metadata": {},
     "source": [
      "The execution times of executing 3 trials of each model for 2 through 8 LPUs on the equivalent number of locally hosted NVIDIA S2050 Tesla GPUs are displayed in the table and plot below. All of the LPUs comprised 30 local and 30 output neurons; 30 sensory neurons were included in each model. In all cases, the execution time (in seconds) corresponds to the interval between the start and stop times of the fully instantiated model:"
     ]
    },
    {
     "cell_type": "code",
     "collapsed": false,
     "input": [
      "import pandas\n",
      "df = pandas.DataFrame({2: [67.61, 71.51, 67.20],\n",
      "                       3: [108.70,111.46,107.35],\n",
      "                       4: [187.71, 183.51, 178.54],\n",
      "                       5: [300.94, 300.07, 302.48],\n",
      "                       6: [441.46, 427.72, 440.59],\n",
      "                       7: [590.09, 586.35, 601.77],\n",
      "                       8: [775.93, 770.63, 772.83]})\n",
      "df[:]"
     ],
     "language": "python",
     "metadata": {},
     "outputs": [
      {
       "html": [
        "<div style=\"max-height:1000px;max-width:1500px;overflow:auto;\">\n",
        "<table border=\"1\" class=\"dataframe\">\n",
        "  <thead>\n",
        "    <tr style=\"text-align: right;\">\n",
        "      <th></th>\n",
        "      <th>2</th>\n",
        "      <th>3</th>\n",
        "      <th>4</th>\n",
        "      <th>5</th>\n",
        "      <th>6</th>\n",
        "      <th>7</th>\n",
        "      <th>8</th>\n",
        "    </tr>\n",
        "  </thead>\n",
        "  <tbody>\n",
        "    <tr>\n",
        "      <th>0</th>\n",
        "      <td> 67.61</td>\n",
        "      <td> 108.70</td>\n",
        "      <td> 187.71</td>\n",
        "      <td> 300.94</td>\n",
        "      <td> 441.46</td>\n",
        "      <td> 590.09</td>\n",
        "      <td> 775.93</td>\n",
        "    </tr>\n",
        "    <tr>\n",
        "      <th>1</th>\n",
        "      <td> 71.51</td>\n",
        "      <td> 111.46</td>\n",
        "      <td> 183.51</td>\n",
        "      <td> 300.07</td>\n",
        "      <td> 427.72</td>\n",
        "      <td> 586.35</td>\n",
        "      <td> 770.63</td>\n",
        "    </tr>\n",
        "    <tr>\n",
        "      <th>2</th>\n",
        "      <td> 67.20</td>\n",
        "      <td> 107.35</td>\n",
        "      <td> 178.54</td>\n",
        "      <td> 302.48</td>\n",
        "      <td> 440.59</td>\n",
        "      <td> 601.77</td>\n",
        "      <td> 772.83</td>\n",
        "    </tr>\n",
        "  </tbody>\n",
        "</table>\n",
        "<p>3 rows \u00d7 7 columns</p>\n",
        "</div>"
       ],
       "metadata": {},
       "output_type": "pyout",
       "prompt_number": 2,
       "text": [
        "       2       3       4       5       6       7       8\n",
        "0  67.61  108.70  187.71  300.94  441.46  590.09  775.93\n",
        "1  71.51  111.46  183.51  300.07  427.72  586.35  770.63\n",
        "2  67.20  107.35  178.54  302.48  440.59  601.77  772.83\n",
        "\n",
        "[3 rows x 7 columns]"
       ]
      }
     ],
     "prompt_number": 2
    },
    {
     "cell_type": "code",
     "collapsed": false,
     "input": [
      "df.mean().plot(style='o--')\n",
      "xlabel('GPU #')\n",
      "ylabel('avg time (s)')\n",
      "xticks(range(2,7), range(2, 7));\n",
      "savefig('exec_time.png')"
     ],
     "language": "python",
     "metadata": {},
     "outputs": [
      {
       "metadata": {},
       "output_type": "display_data",
       "png": "[encoded data removed]",
       "text": [
        "<matplotlib.figure.Figure at 0x3bbdf50>"
       ]
      }
     ],
     "prompt_number": 3
    }
   ],
   "metadata": {}
  }
 ]
}
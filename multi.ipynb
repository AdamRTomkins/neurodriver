{
 "metadata": {
  "name": "",
  "signature": "sha256:7cad297b60a7b9a0e526ba92617fd75fffa23fa3d5b33a07ec31d0125aee6c6c"
 },
 "nbformat": 3,
 "nbformat_minor": 0,
 "worksheets": [
  {
   "cells": [
    {
     "cell_type": "heading",
     "level": 1,
     "metadata": {},
     "source": [
      "Mapping a Network of LPUs onto Multiple GPUs"
     ]
    },
    {
     "cell_type": "markdown",
     "metadata": {},
     "source": [
      "This notebook illustrates how to connect and execute several generic LPUs on multiple GPUs."
     ]
    },
    {
     "cell_type": "heading",
     "level": 3,
     "metadata": {},
     "source": [
      "Background"
     ]
    },
    {
     "cell_type": "markdown",
     "metadata": {},
     "source": [
      "Neurokernel's architecture enables one to specify complex networks of LPUs that interact via different connectivity patterns and map the LPUs to individual GPUs. This functionality is essential both to express models of the entire fly brain in terms of their constituent processing units and to the development of future resource allocation mechanisms that will be able to take advantage of available GPU resources in an automated manner."
     ]
    },
    {
     "cell_type": "markdown",
     "metadata": {},
     "source": [
      "<img src='files/files/lpu-network.jpg' />"
     ]
    },
    {
     "cell_type": "heading",
     "level": 3,
     "metadata": {},
     "source": [
      "Constructing an LPU Network"
     ]
    },
    {
     "cell_type": "markdown",
     "metadata": {},
     "source": [
      "Since each LPU instance in a multi-LPU model must possess a unique identifier, construction of an LPU network is a matter of instantiating connectivity patterns between those pairs of LPUs that one wishes to connect and populating them with data describing the connections between ports exposed by the respective LPUs.\n",
      "\n",
      "In the example below, we first create an input signal and instantiate N generic LPUs containing fixed numbers of local and projection neurons. Each LPU is configured to run on a different GPU (where the at least N GPUs are assumed to be available). Notice that only one LPU receives the input signal:"
     ]
    },
    {
     "cell_type": "code",
     "collapsed": false,
     "input": [
      "%cd -q ~/neurokernel/examples/multi/data\n",
      "\n",
      "import itertools\n",
      "import random\n",
      "\n",
      "import gen_generic_lpu as g\n",
      "\n",
      "%cd -q ~/neurokernel/examples/multi\n",
      "\n",
      "import neurokernel.core as core\n",
      "from neurokernel.tools.comm import get_random_port\n",
      "\n",
      "import neurokernel.pattern as pattern\n",
      "from neurokernel.LPU.LPU import LPU\n",
      "\n",
      "# Execution parameters:\n",
      "dt = 1e-4\n",
      "dur = 1.0\n",
      "start = 0.3\n",
      "stop = 0.6\n",
      "I_max = 0.6\n",
      "steps = int(dur/dt)\n",
      "\n",
      "N_sensory = 30 # number of sensory neurons\n",
      "N_local = 30      # number of local neurons\n",
      "N_output = 30   # number of projection neurons\n",
      "\n",
      "N = 3\n",
      "\n",
      "# Only LPU 0 receives input and should therefore be associated with a population                                   \n",
      "# of sensory neurons:  \n",
      "neu_dict = {i: [0, N_local, N_output] for i in xrange(N)}\n",
      "neu_dict[0][0] = N_sensory\n",
      "\n",
      "# Create input signal for LPU 0:                                                                                   \n",
      "in_file_name_0 = 'data/generic_input.h5'\n",
      "g.create_input(in_file_name_0, neu_dict[0][0], dt, dur, start, stop, I_max)\n",
      "\n",
      "# Store info for all instantiated LPUs in the following dict:                                                      \n",
      "lpu_dict = {}\n",
      "\n",
      "# Create several LPUs:                                                                                             \n",
      "port_data = get_random_port()\n",
      "port_ctrl = get_random_port()\n",
      "\n",
      "for i, neu_num in neu_dict.iteritems():\n",
      "    lpu_entry = {}\n",
      "\n",
      "    if i == 0:\n",
      "        in_file_name = in_file_name_0\n",
      "    else:\n",
      "        in_file_name = None\n",
      "    lpu_file_name = 'data/generic_lpu_%s.gexf.gz' % i\n",
      "    out_file_name = 'generic_output_%s.h5' % i\n",
      "\n",
      "    id = 'lpu_%s' % i\n",
      "    \n",
      "    g.create_lpu(lpu_file_name, id, *neu_num)\n",
      "    (n_dict, s_dict) = LPU.lpu_parser(lpu_file_name)\n",
      "\n",
      "    lpu = LPU(dt, n_dict, s_dict, input_file=in_file_name,\n",
      "              output_file=out_file_name,\n",
      "              port_ctrl=port_ctrl, port_data=port_data,\n",
      "              device=i, id=id,\n",
      "              debug=False)\n",
      "\n",
      "    lpu_entry['lpu_file_name'] = lpu_file_name\n",
      "    lpu_entry['in_file_name'] = in_file_name\n",
      "    lpu_entry['out_file_name'] = out_file_name\n",
      "    lpu_entry['lpu'] = lpu\n",
      "    lpu_entry['id'] = id\n",
      "\n",
      "    lpu_dict[i] = lpu_entry"
     ],
     "language": "python",
     "metadata": {},
     "outputs": [],
     "prompt_number": 1
    },
    {
     "cell_type": "markdown",
     "metadata": {},
     "source": [
      "Each LPU exposes input and output communication ports. The generic LPU generator invoked above associates an output port with each projection neuron in an LPU and an input port with a node connected to a synapse that is in turn connected to some neuron in the LPU.\n",
      "\n",
      "Once the LPUs have been instantiated, we use information about the ports exposed by each LPU to define connectivity patterns between those LPUs we wish to connect. Notice that since the ``Pattern`` class enables one to specify connections in both directions between two LPUs, it is only necessary to consider combinations of LPUs without regard to their order. In the example below, we define connections between all pairs of LPUs in the network, i.e., the graph of all LPUs is complete, and we only connect spiking neurons exposed by the LPUs:"
     ]
    },
    {
     "cell_type": "code",
     "collapsed": false,
     "input": [
      "man = core.Manager(port_data, port_ctrl)\n",
      "man.add_brok()\n",
      "\n",
      "random.seed(0)\n",
      "\n",
      "# Since each connectivity pattern between two LPUs contains the synapses in both\n",
      "# directions, create connectivity patterns between each combination of LPU\n",
      "# pairs:\n",
      "for id_0, id_1 in itertools.combinations(lpu_dict.keys(), 2):\n",
      "\n",
      "    lpu_0 = lpu_dict[id_0]['lpu']\n",
      "    lpu_1 = lpu_dict[id_1]['lpu']\n",
      "\n",
      "    # Find all output and input port selectors in each LPU:                                                                           \n",
      "    out_ports_0 = lpu_0.interface.out_ports().to_selectors()\n",
      "    out_ports_1 = lpu_1.interface.out_ports().to_selectors()\n",
      "\n",
      "    in_ports_0 = lpu_0.interface.in_ports().to_selectors()\n",
      "    in_ports_1 = lpu_1.interface.in_ports().to_selectors()\n",
      "\n",
      "    out_ports_spk_0 = lpu_0.interface.out_ports().spike_ports().to_selectors()\n",
      "    out_ports_gpot_0 = lpu_0.interface.out_ports().gpot_ports().to_selectors()\n",
      "\n",
      "    out_ports_spk_1 = lpu_1.interface.out_ports().spike_ports().to_selectors()\n",
      "    out_ports_gpot_1 = lpu_1.interface.out_ports().gpot_ports().to_selectors()\n",
      "\n",
      "    in_ports_spk_0 = lpu_0.interface.in_ports().spike_ports().to_selectors()\n",
      "    in_ports_gpot_0 = lpu_0.interface.in_ports().gpot_ports().to_selectors()\n",
      "\n",
      "    in_ports_spk_1 = lpu_1.interface.in_ports().spike_ports().to_selectors()\n",
      "    in_ports_gpot_1 = lpu_1.interface.in_ports().gpot_ports().to_selectors()\n",
      "\n",
      "    # Initialize a connectivity pattern between the two sets of port \n",
      "    # selectors:                                                                                                         \n",
      "    pat = pattern.Pattern(','.join(out_ports_0+in_ports_0),\n",
      "                          ','.join(out_ports_1+in_ports_1))\n",
      "    \n",
      "    # Create connections from the ports with identifiers matching the output\n",
      "    # ports of one LPU to the ports with identifiers matching the input\n",
      "    # ports of the other LPU. First, define connections from LPU0 to LPU1:\n",
      "    N_conn_spk_0_1 = min(len(out_ports_spk_0), len(in_ports_spk_1))\n",
      "    N_conn_gpot_0_1 = min(len(out_ports_gpot_0), len(in_ports_gpot_1))\n",
      "    for src, dest in zip(random.sample(out_ports_spk_0, N_conn_spk_0_1),\n",
      "                         random.sample(in_ports_spk_1, N_conn_spk_0_1)):\n",
      "        pat[src, dest] = 1\n",
      "        pat.interface[src, 'type'] = 'spike'\n",
      "        pat.interface[dest, 'type'] = 'spike'\n",
      "    for src, dest in zip(random.sample(out_ports_gpot_0, N_conn_gpot_0_1),\n",
      "                         random.sample(in_ports_gpot_1, N_conn_gpot_0_1)):\n",
      "        pat[src, dest] = 1\n",
      "        pat.interface[src, 'type'] = 'gpot'\n",
      "        pat.interface[dest, 'type'] = 'gpot'\n",
      "\n",
      "    # Next, define connections from LPU1 to LPU0:\n",
      "    N_conn_spk_1_0 = min(len(out_ports_spk_1), len(in_ports_spk_0))\n",
      "    N_conn_gpot_1_0 = min(len(out_ports_gpot_1), len(in_ports_gpot_0))\n",
      "    for src, dest in zip(random.sample(out_ports_spk_1, N_conn_spk_1_0),\n",
      "                         random.sample(in_ports_spk_0, N_conn_spk_1_0)):\n",
      "        pat[src, dest] = 1\n",
      "        pat.interface[src, 'type'] = 'spike'\n",
      "        pat.interface[dest, 'type'] = 'spike'\n",
      "    for src, dest in zip(random.sample(out_ports_gpot_1, N_conn_gpot_1_0),\n",
      "                         random.sample(in_ports_gpot_0, N_conn_gpot_1_0)):\n",
      "        pat[src, dest] = 1\n",
      "        pat.interface[src, 'type'] = 'gpot'\n",
      "        pat.interface[dest, 'type'] = 'gpot'\n",
      "        \n",
      "    man.connect(lpu_0, lpu_1, pat, 0, 1)"
     ],
     "language": "python",
     "metadata": {},
     "outputs": [],
     "prompt_number": 2
    },
    {
     "cell_type": "markdown",
     "metadata": {},
     "source": [
      "Once all of the connections are in place, the entire network may be executed as follows:"
     ]
    },
    {
     "cell_type": "code",
     "collapsed": false,
     "input": [
      "man.start(steps=steps)\n",
      "man.stop()"
     ],
     "language": "python",
     "metadata": {},
     "outputs": [],
     "prompt_number": 3
    },
    {
     "cell_type": "markdown",
     "metadata": {},
     "source": [
      "Generated output for each LPU is stored in HDF5 files."
     ]
    },
    {
     "cell_type": "markdown",
     "metadata": {},
     "source": [
      "Assuming that the Neurokernel source code has been cloned to ``~/neurokernel``, the above demo can also be run in script form as follows. The parameters below specify a model comprising 30 sensory neurons connected to one LPU in a network of 3 LPUs connected to each other, each of which contains 30 local neurons and 30 output neurons:"
     ]
    },
    {
     "cell_type": "code",
     "collapsed": false,
     "input": [
      "%cd -q ~/neurokernel/examples/multi\n",
      "%run multi_demo.py -y 30 -n 30 -o 30 -u 3"
     ],
     "language": "python",
     "metadata": {},
     "outputs": [],
     "prompt_number": 4
    }
   ],
   "metadata": {}
  }
 ]
}
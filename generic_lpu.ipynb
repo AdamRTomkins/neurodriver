{
 "metadata": {
  "name": "generic_lpu"
 },
 "nbformat": 3,
 "nbformat_minor": 0,
 "worksheets": [
  {
   "cells": [
    {
     "cell_type": "heading",
     "level": 1,
     "metadata": {},
     "source": [
      "Generic Sensory LPU Demo"
     ]
    },
    {
     "cell_type": "raw",
     "metadata": {},
     "source": [
      "This notebook illustrates how to simulate a generic LPU with input from sensory neurons. The generic LPU considered in this example serves as a template of LPU design, and can be extended to other sensory modulaties such as olfaction and vision systems. "
     ]
    },
    {
     "cell_type": "heading",
     "level": 4,
     "metadata": {},
     "source": [
      "Configuration"
     ]
    },
    {
     "cell_type": "raw",
     "metadata": {},
     "source": [
      "The generic LPU comprises two populations of neurons, local neurons and output neurons [1]. In order to provide input into the LPU, we include sensory neurons in this demo. The sensory neurons are driven by the artificial input stimulus. The entire model is depicted as follows,"
     ]
    },
    {
     "cell_type": "code",
     "collapsed": false,
     "input": [
      "%cd -q ~/neurokernel/notebooks/\n",
      "import IPython.display\n",
      "IPython.display.Image(filename='generic_lpu.png')"
     ],
     "language": "python",
     "metadata": {},
     "outputs": [
      {
       "output_type": "pyout",
       "png": "[encoded data removed]",
       "prompt_number": 1,
       "text": [
        "<IPython.core.display.Image at 0x2abbf10>"
       ]
      }
     ],
     "prompt_number": 1
    },
    {
     "cell_type": "raw",
     "metadata": {},
     "source": [
      "The generic LPU employed in this example is randomly generated: The number of neurons in each populations is randomly determined between 30 to 40. The sensory neurons and ouput neurons are modeled as the leaky integrate-and-fire (IAF) neuron, and each of the local neurons is modeled as either a leaky IAF neuron or a conductance based graded potential neuron. The synapses across each pairs of neuron populations are also created randomly. Roughly half of pairs of neurons are connected. We run the following code to generate the configuration of the model, as well as the input stimulus for the sensory neurons:"
     ]
    },
    {
     "cell_type": "code",
     "collapsed": false,
     "input": [
      "%cd -q ~/neurokernel/examples/generic_lpu/data\n",
      "%run create_generic_lpu.py"
     ],
     "language": "python",
     "metadata": {},
     "outputs": [],
     "prompt_number": 2
    },
    {
     "cell_type": "heading",
     "level": 4,
     "metadata": {},
     "source": [
      "Simulation"
     ]
    },
    {
     "cell_type": "raw",
     "metadata": {},
     "source": [
      "Once the configuration and the input stimulus are ready, we execute the entire model:"
     ]
    },
    {
     "cell_type": "code",
     "collapsed": false,
     "input": [
      "%cd -q ~/neurokernel/examples/generic_lpu\n",
      "%run generic_demo.py"
     ],
     "language": "python",
     "metadata": {},
     "outputs": [],
     "prompt_number": 3
    },
    {
     "cell_type": "heading",
     "level": 4,
     "metadata": {},
     "source": [
      "Visualizing Result"
     ]
    },
    {
     "cell_type": "raw",
     "metadata": {},
     "source": [
      "Next, we render the simulation output to a video clip,"
     ]
    },
    {
     "cell_type": "code",
     "collapsed": false,
     "input": [
      "%run visualize_output.py"
     ],
     "language": "python",
     "metadata": {},
     "outputs": [],
     "prompt_number": 4
    },
    {
     "cell_type": "raw",
     "metadata": {},
     "source": [
      "The resultant video can be viewed below:"
     ]
    },
    {
     "cell_type": "code",
     "collapsed": false,
     "input": [
      "IPython.display.YouTubeVideo('gIEchSQvffk')"
     ],
     "language": "python",
     "metadata": {},
     "outputs": [
      {
       "html": [
        "\n",
        "            <iframe\n",
        "                width=\"400\"\n",
        "                height=\"300\"\n",
        "                src=\"http://www.youtube.com/embed/gIEchSQvffk\"\n",
        "                frameborder=\"0\"\n",
        "                allowfullscreen\n",
        "            ></iframe>\n",
        "        "
       ],
       "output_type": "pyout",
       "prompt_number": 5,
       "text": [
        "<IPython.lib.display.YouTubeVideo at 0x2abbcd0>"
       ]
      }
     ],
     "prompt_number": 5
    },
    {
     "cell_type": "heading",
     "level": 4,
     "metadata": {},
     "source": [
      "Reference"
     ]
    },
    {
     "cell_type": "raw",
     "metadata": {},
     "source": [
      "[1] Ann-Shyn Chiang, Chih-Yung Lin, Chao-Chun Chuang, Hsiu-Ming Chang, Chang- Huain Hsieh, Chang-Wei Yeh, Chi-Tin Shih, Jian-Jheng Wu, Guo-Tzau Wang, and Yung-Chang Chen. Three-dimensional reconstruction of brain-wide wiring networks in Drosophila at single-cell resolution. Current Biology, 21(1):1\u201311, January 2011."
     ]
    }
   ],
   "metadata": {}
  }
 ]
}
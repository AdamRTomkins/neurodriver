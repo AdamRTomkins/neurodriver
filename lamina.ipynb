{
 "metadata": {
  "name": ""
 },
 "nbformat": 3,
 "nbformat_minor": 0,
 "worksheets": [
  {
   "cells": [
    {
     "cell_type": "heading",
     "level": 1,
     "metadata": {},
     "source": [
      "Lamina LPU Configuration Demo"
     ]
    },
    {
     "cell_type": "markdown",
     "metadata": {},
     "source": [
      "This notebook illustrates the configuration of the lamina LPU described in <a href=\"http://neurokernel.github.io/docs.html\">Neurokernel RFC #2</a>: The Cartridge: A Canonical Neural Circuit Abstraction of the Lamina Neuropil - Construction and Composition Rules."
     ]
    },
    {
     "cell_type": "heading",
     "level": 3,
     "metadata": {},
     "source": [
      "Specification of Neurons and Synapses"
     ]
    },
    {
     "cell_type": "markdown",
     "metadata": {},
     "source": [
      "Assuming that the Neurokernel source has been cloned to ``~/neurokernel``, we first consider the two csv files that specify neurons and synapses in the lamina model."
     ]
    },
    {
     "cell_type": "code",
     "collapsed": false,
     "input": [
      "%cd -q ~/neurokernel/examples/lamina/data"
     ],
     "language": "python",
     "metadata": {},
     "outputs": [],
     "prompt_number": 1
    },
    {
     "cell_type": "markdown",
     "metadata": {},
     "source": [
      "The neuron model types and their parameter values are specified in the file ``neuron_type_lamina.csv``. The entire list of neurons is shown below. Note that for convenience, the LPU contains neurons from both the retina and lamina. Descriptions of each of the columns follow:\n",
      "\n",
      "* ``name`` - Name of neuron morphological type.\n",
      "* ``model`` - Specifies the name of the class implementing the neuron model. \n",
      "* ``columnar`` - A value of 1 in column indicates that the neuron/element is a columnar neuron/element; a number greater than 1 indicates the total number of non-columnar neurons of the specified ``name`` in the lamina. \n",
      "* ``dummy`` - Used to indicate alpha-profiles.\n",
      "* ``input`` - Indicates whether the neuron is an input axon from another LPU.\n",
      "* ``output`` - Indicates whether the neuron is an output neuron.\n",
      "* ``extern`` - Specifies if the neuron receives external input, e.g., a video signal. \n",
      "* ``public`` - Specifies if the neuron may communicate with other LPUs via Neurokernel's API. \n",
      "\n",
      "The remaining columns in the table are neuron model parameters."
     ]
    },
    {
     "cell_type": "code",
     "collapsed": false,
     "input": [
      "import pandas as pd\n",
      "pd.set_option('display.max_columns', 20)\n",
      "rcParams['figure.figsize'] = (17, 7)\n",
      "neuron_data = pd.read_csv(\"./neuron_types_lamina.csv\")\n",
      "neuron_data = neuron_data.dropna(axis=1)\n",
      "neuron_data.head(n=100)"
     ],
     "language": "python",
     "metadata": {},
     "outputs": [
      {
       "html": [
        "<div style=\"max-height:1000px;max-width:1500px;overflow:auto;\">\n",
        "<table border=\"1\" class=\"dataframe\">\n",
        "  <thead>\n",
        "    <tr style=\"text-align: right;\">\n",
        "      <th></th>\n",
        "      <th>name</th>\n",
        "      <th>model</th>\n",
        "      <th>columnar</th>\n",
        "      <th>dummy</th>\n",
        "      <th>input</th>\n",
        "      <th>output</th>\n",
        "      <th>extern</th>\n",
        "      <th>public</th>\n",
        "      <th>V1</th>\n",
        "      <th>V2</th>\n",
        "      <th>V3</th>\n",
        "      <th>V4</th>\n",
        "      <th>phi</th>\n",
        "      <th>initV</th>\n",
        "      <th>initn</th>\n",
        "      <th>offset</th>\n",
        "    </tr>\n",
        "  </thead>\n",
        "  <tbody>\n",
        "    <tr>\n",
        "      <th>0 </th>\n",
        "      <td> R1</td>\n",
        "      <td> MorrisLecar</td>\n",
        "      <td>   1</td>\n",
        "      <td> 0</td>\n",
        "      <td> 1</td>\n",
        "      <td> 0</td>\n",
        "      <td> 1</td>\n",
        "      <td> 0</td>\n",
        "      <td> 0.030</td>\n",
        "      <td> 0.015</td>\n",
        "      <td> 0.00</td>\n",
        "      <td> 0.030</td>\n",
        "      <td> 0.0250</td>\n",
        "      <td>-0.05214</td>\n",
        "      <td> 0.0300</td>\n",
        "      <td> 0.00</td>\n",
        "    </tr>\n",
        "    <tr>\n",
        "      <th>1 </th>\n",
        "      <td> R2</td>\n",
        "      <td> MorrisLecar</td>\n",
        "      <td>   1</td>\n",
        "      <td> 0</td>\n",
        "      <td> 1</td>\n",
        "      <td> 0</td>\n",
        "      <td> 1</td>\n",
        "      <td> 0</td>\n",
        "      <td> 0.030</td>\n",
        "      <td> 0.015</td>\n",
        "      <td> 0.00</td>\n",
        "      <td> 0.030</td>\n",
        "      <td> 0.0250</td>\n",
        "      <td>-0.05214</td>\n",
        "      <td> 0.0300</td>\n",
        "      <td> 0.00</td>\n",
        "    </tr>\n",
        "    <tr>\n",
        "      <th>2 </th>\n",
        "      <td> R3</td>\n",
        "      <td> MorrisLecar</td>\n",
        "      <td>   1</td>\n",
        "      <td> 0</td>\n",
        "      <td> 1</td>\n",
        "      <td> 0</td>\n",
        "      <td> 1</td>\n",
        "      <td> 0</td>\n",
        "      <td> 0.030</td>\n",
        "      <td> 0.015</td>\n",
        "      <td> 0.00</td>\n",
        "      <td> 0.030</td>\n",
        "      <td> 0.0250</td>\n",
        "      <td>-0.05214</td>\n",
        "      <td> 0.0300</td>\n",
        "      <td> 0.00</td>\n",
        "    </tr>\n",
        "    <tr>\n",
        "      <th>3 </th>\n",
        "      <td> R4</td>\n",
        "      <td> MorrisLecar</td>\n",
        "      <td>   1</td>\n",
        "      <td> 0</td>\n",
        "      <td> 1</td>\n",
        "      <td> 0</td>\n",
        "      <td> 1</td>\n",
        "      <td> 0</td>\n",
        "      <td> 0.030</td>\n",
        "      <td> 0.015</td>\n",
        "      <td> 0.00</td>\n",
        "      <td> 0.030</td>\n",
        "      <td> 0.0250</td>\n",
        "      <td>-0.05214</td>\n",
        "      <td> 0.0300</td>\n",
        "      <td> 0.00</td>\n",
        "    </tr>\n",
        "    <tr>\n",
        "      <th>4 </th>\n",
        "      <td> R5</td>\n",
        "      <td> MorrisLecar</td>\n",
        "      <td>   1</td>\n",
        "      <td> 0</td>\n",
        "      <td> 1</td>\n",
        "      <td> 0</td>\n",
        "      <td> 1</td>\n",
        "      <td> 0</td>\n",
        "      <td> 0.030</td>\n",
        "      <td> 0.015</td>\n",
        "      <td> 0.00</td>\n",
        "      <td> 0.030</td>\n",
        "      <td> 0.0250</td>\n",
        "      <td>-0.05214</td>\n",
        "      <td> 0.0300</td>\n",
        "      <td> 0.00</td>\n",
        "    </tr>\n",
        "    <tr>\n",
        "      <th>5 </th>\n",
        "      <td> R6</td>\n",
        "      <td> MorrisLecar</td>\n",
        "      <td>   1</td>\n",
        "      <td> 0</td>\n",
        "      <td> 1</td>\n",
        "      <td> 0</td>\n",
        "      <td> 1</td>\n",
        "      <td> 0</td>\n",
        "      <td> 0.030</td>\n",
        "      <td> 0.015</td>\n",
        "      <td> 0.00</td>\n",
        "      <td> 0.030</td>\n",
        "      <td> 0.0250</td>\n",
        "      <td>-0.05214</td>\n",
        "      <td> 0.0300</td>\n",
        "      <td> 0.00</td>\n",
        "    </tr>\n",
        "    <tr>\n",
        "      <th>6 </th>\n",
        "      <td> L1</td>\n",
        "      <td> MorrisLecar</td>\n",
        "      <td>   1</td>\n",
        "      <td> 0</td>\n",
        "      <td> 0</td>\n",
        "      <td> 1</td>\n",
        "      <td> 0</td>\n",
        "      <td> 1</td>\n",
        "      <td>-0.001</td>\n",
        "      <td> 0.015</td>\n",
        "      <td>-0.05</td>\n",
        "      <td> 0.001</td>\n",
        "      <td> 0.0025</td>\n",
        "      <td>-0.05000</td>\n",
        "      <td> 0.5000</td>\n",
        "      <td> 0.02</td>\n",
        "    </tr>\n",
        "    <tr>\n",
        "      <th>7 </th>\n",
        "      <td> L2</td>\n",
        "      <td> MorrisLecar</td>\n",
        "      <td>   1</td>\n",
        "      <td> 0</td>\n",
        "      <td> 0</td>\n",
        "      <td> 1</td>\n",
        "      <td> 0</td>\n",
        "      <td> 1</td>\n",
        "      <td>-0.001</td>\n",
        "      <td> 0.015</td>\n",
        "      <td>-0.05</td>\n",
        "      <td> 0.001</td>\n",
        "      <td> 0.0025</td>\n",
        "      <td>-0.05000</td>\n",
        "      <td> 0.5000</td>\n",
        "      <td> 0.02</td>\n",
        "    </tr>\n",
        "    <tr>\n",
        "      <th>8 </th>\n",
        "      <td> L3</td>\n",
        "      <td> MorrisLecar</td>\n",
        "      <td>   1</td>\n",
        "      <td> 0</td>\n",
        "      <td> 0</td>\n",
        "      <td> 1</td>\n",
        "      <td> 0</td>\n",
        "      <td> 1</td>\n",
        "      <td>-0.001</td>\n",
        "      <td> 0.015</td>\n",
        "      <td>-0.05</td>\n",
        "      <td> 0.001</td>\n",
        "      <td> 0.0025</td>\n",
        "      <td>-0.05000</td>\n",
        "      <td> 0.5000</td>\n",
        "      <td> 0.02</td>\n",
        "    </tr>\n",
        "    <tr>\n",
        "      <th>9 </th>\n",
        "      <td> L4</td>\n",
        "      <td> MorrisLecar</td>\n",
        "      <td>   1</td>\n",
        "      <td> 0</td>\n",
        "      <td> 0</td>\n",
        "      <td> 1</td>\n",
        "      <td> 0</td>\n",
        "      <td> 1</td>\n",
        "      <td>-0.001</td>\n",
        "      <td> 0.015</td>\n",
        "      <td>-0.05</td>\n",
        "      <td> 0.001</td>\n",
        "      <td> 0.0025</td>\n",
        "      <td>-0.05000</td>\n",
        "      <td> 0.5000</td>\n",
        "      <td> 0.02</td>\n",
        "    </tr>\n",
        "    <tr>\n",
        "      <th>10</th>\n",
        "      <td> L5</td>\n",
        "      <td> MorrisLecar</td>\n",
        "      <td>   1</td>\n",
        "      <td> 0</td>\n",
        "      <td> 0</td>\n",
        "      <td> 1</td>\n",
        "      <td> 0</td>\n",
        "      <td> 1</td>\n",
        "      <td>-0.001</td>\n",
        "      <td> 0.015</td>\n",
        "      <td>-0.05</td>\n",
        "      <td> 0.001</td>\n",
        "      <td> 0.0025</td>\n",
        "      <td>-0.05000</td>\n",
        "      <td> 0.5000</td>\n",
        "      <td> 0.02</td>\n",
        "    </tr>\n",
        "    <tr>\n",
        "      <th>11</th>\n",
        "      <td> T1</td>\n",
        "      <td> MorrisLecar</td>\n",
        "      <td>   1</td>\n",
        "      <td> 0</td>\n",
        "      <td> 0</td>\n",
        "      <td> 1</td>\n",
        "      <td> 0</td>\n",
        "      <td> 1</td>\n",
        "      <td>-0.001</td>\n",
        "      <td> 0.015</td>\n",
        "      <td>-0.05</td>\n",
        "      <td> 0.001</td>\n",
        "      <td> 0.0025</td>\n",
        "      <td>-0.05000</td>\n",
        "      <td> 0.5000</td>\n",
        "      <td> 0.02</td>\n",
        "    </tr>\n",
        "    <tr>\n",
        "      <th>12</th>\n",
        "      <td> C2</td>\n",
        "      <td> MorrisLecar</td>\n",
        "      <td>   1</td>\n",
        "      <td> 0</td>\n",
        "      <td> 0</td>\n",
        "      <td> 1</td>\n",
        "      <td> 0</td>\n",
        "      <td> 1</td>\n",
        "      <td>-0.001</td>\n",
        "      <td> 0.015</td>\n",
        "      <td>-0.05</td>\n",
        "      <td> 0.001</td>\n",
        "      <td> 0.0025</td>\n",
        "      <td>-0.05000</td>\n",
        "      <td> 0.5000</td>\n",
        "      <td> 0.02</td>\n",
        "    </tr>\n",
        "    <tr>\n",
        "      <th>13</th>\n",
        "      <td> C3</td>\n",
        "      <td> MorrisLecar</td>\n",
        "      <td>   1</td>\n",
        "      <td> 0</td>\n",
        "      <td> 0</td>\n",
        "      <td> 1</td>\n",
        "      <td> 0</td>\n",
        "      <td> 1</td>\n",
        "      <td>-0.001</td>\n",
        "      <td> 0.015</td>\n",
        "      <td>-0.05</td>\n",
        "      <td> 0.001</td>\n",
        "      <td> 0.0025</td>\n",
        "      <td>-0.05000</td>\n",
        "      <td> 0.5000</td>\n",
        "      <td> 0.02</td>\n",
        "    </tr>\n",
        "    <tr>\n",
        "      <th>14</th>\n",
        "      <td> Am</td>\n",
        "      <td> MorrisLecar</td>\n",
        "      <td> 350</td>\n",
        "      <td> 0</td>\n",
        "      <td> 0</td>\n",
        "      <td> 0</td>\n",
        "      <td> 0</td>\n",
        "      <td> 0</td>\n",
        "      <td>-0.001</td>\n",
        "      <td> 0.015</td>\n",
        "      <td> 0.00</td>\n",
        "      <td> 0.030</td>\n",
        "      <td> 0.2000</td>\n",
        "      <td>-0.05184</td>\n",
        "      <td> 0.0306</td>\n",
        "      <td> 0.00</td>\n",
        "    </tr>\n",
        "    <tr>\n",
        "      <th>15</th>\n",
        "      <td> a1</td>\n",
        "      <td> MorrisLecar</td>\n",
        "      <td>   1</td>\n",
        "      <td> 1</td>\n",
        "      <td> 0</td>\n",
        "      <td> 0</td>\n",
        "      <td> 0</td>\n",
        "      <td> 0</td>\n",
        "      <td>-0.001</td>\n",
        "      <td> 0.015</td>\n",
        "      <td>-0.05</td>\n",
        "      <td> 0.001</td>\n",
        "      <td> 0.0025</td>\n",
        "      <td> 0.00000</td>\n",
        "      <td> 0.0000</td>\n",
        "      <td> 0.00</td>\n",
        "    </tr>\n",
        "    <tr>\n",
        "      <th>16</th>\n",
        "      <td> a2</td>\n",
        "      <td> MorrisLecar</td>\n",
        "      <td>   1</td>\n",
        "      <td> 1</td>\n",
        "      <td> 0</td>\n",
        "      <td> 0</td>\n",
        "      <td> 0</td>\n",
        "      <td> 0</td>\n",
        "      <td>-0.001</td>\n",
        "      <td> 0.015</td>\n",
        "      <td>-0.05</td>\n",
        "      <td> 0.001</td>\n",
        "      <td> 0.0025</td>\n",
        "      <td> 0.00000</td>\n",
        "      <td> 0.0000</td>\n",
        "      <td> 0.00</td>\n",
        "    </tr>\n",
        "    <tr>\n",
        "      <th>17</th>\n",
        "      <td> a3</td>\n",
        "      <td> MorrisLecar</td>\n",
        "      <td>   1</td>\n",
        "      <td> 1</td>\n",
        "      <td> 0</td>\n",
        "      <td> 0</td>\n",
        "      <td> 0</td>\n",
        "      <td> 0</td>\n",
        "      <td>-0.001</td>\n",
        "      <td> 0.015</td>\n",
        "      <td>-0.05</td>\n",
        "      <td> 0.001</td>\n",
        "      <td> 0.0025</td>\n",
        "      <td> 0.00000</td>\n",
        "      <td> 0.0000</td>\n",
        "      <td> 0.00</td>\n",
        "    </tr>\n",
        "    <tr>\n",
        "      <th>18</th>\n",
        "      <td> a4</td>\n",
        "      <td> MorrisLecar</td>\n",
        "      <td>   1</td>\n",
        "      <td> 1</td>\n",
        "      <td> 0</td>\n",
        "      <td> 0</td>\n",
        "      <td> 0</td>\n",
        "      <td> 0</td>\n",
        "      <td>-0.001</td>\n",
        "      <td> 0.015</td>\n",
        "      <td>-0.05</td>\n",
        "      <td> 0.001</td>\n",
        "      <td> 0.0025</td>\n",
        "      <td> 0.00000</td>\n",
        "      <td> 0.0000</td>\n",
        "      <td> 0.00</td>\n",
        "    </tr>\n",
        "    <tr>\n",
        "      <th>19</th>\n",
        "      <td> a5</td>\n",
        "      <td> MorrisLecar</td>\n",
        "      <td>   1</td>\n",
        "      <td> 1</td>\n",
        "      <td> 0</td>\n",
        "      <td> 0</td>\n",
        "      <td> 0</td>\n",
        "      <td> 0</td>\n",
        "      <td>-0.001</td>\n",
        "      <td> 0.015</td>\n",
        "      <td>-0.05</td>\n",
        "      <td> 0.001</td>\n",
        "      <td> 0.0025</td>\n",
        "      <td> 0.00000</td>\n",
        "      <td> 0.0000</td>\n",
        "      <td> 0.00</td>\n",
        "    </tr>\n",
        "    <tr>\n",
        "      <th>20</th>\n",
        "      <td> a6</td>\n",
        "      <td> MorrisLecar</td>\n",
        "      <td>   1</td>\n",
        "      <td> 1</td>\n",
        "      <td> 0</td>\n",
        "      <td> 0</td>\n",
        "      <td> 0</td>\n",
        "      <td> 0</td>\n",
        "      <td>-0.001</td>\n",
        "      <td> 0.015</td>\n",
        "      <td>-0.05</td>\n",
        "      <td> 0.001</td>\n",
        "      <td> 0.0025</td>\n",
        "      <td> 0.00000</td>\n",
        "      <td> 0.0000</td>\n",
        "      <td> 0.00</td>\n",
        "    </tr>\n",
        "  </tbody>\n",
        "</table>\n",
        "</div>"
       ],
       "metadata": {},
       "output_type": "pyout",
       "prompt_number": 2,
       "text": [
        "   name        model  columnar  dummy  input  output  extern  public     V1  \\\n",
        "0    R1  MorrisLecar         1      0      1       0       1       0  0.030   \n",
        "1    R2  MorrisLecar         1      0      1       0       1       0  0.030   \n",
        "2    R3  MorrisLecar         1      0      1       0       1       0  0.030   \n",
        "3    R4  MorrisLecar         1      0      1       0       1       0  0.030   \n",
        "4    R5  MorrisLecar         1      0      1       0       1       0  0.030   \n",
        "5    R6  MorrisLecar         1      0      1       0       1       0  0.030   \n",
        "6    L1  MorrisLecar         1      0      0       1       0       1 -0.001   \n",
        "7    L2  MorrisLecar         1      0      0       1       0       1 -0.001   \n",
        "8    L3  MorrisLecar         1      0      0       1       0       1 -0.001   \n",
        "9    L4  MorrisLecar         1      0      0       1       0       1 -0.001   \n",
        "10   L5  MorrisLecar         1      0      0       1       0       1 -0.001   \n",
        "11   T1  MorrisLecar         1      0      0       1       0       1 -0.001   \n",
        "12   C2  MorrisLecar         1      0      0       1       0       1 -0.001   \n",
        "13   C3  MorrisLecar         1      0      0       1       0       1 -0.001   \n",
        "14   Am  MorrisLecar       350      0      0       0       0       0 -0.001   \n",
        "15   a1  MorrisLecar         1      1      0       0       0       0 -0.001   \n",
        "16   a2  MorrisLecar         1      1      0       0       0       0 -0.001   \n",
        "17   a3  MorrisLecar         1      1      0       0       0       0 -0.001   \n",
        "18   a4  MorrisLecar         1      1      0       0       0       0 -0.001   \n",
        "19   a5  MorrisLecar         1      1      0       0       0       0 -0.001   \n",
        "20   a6  MorrisLecar         1      1      0       0       0       0 -0.001   \n",
        "\n",
        "       V2    V3     V4     phi    initV   initn  offset  \n",
        "0   0.015  0.00  0.030  0.0250 -0.05214  0.0300    0.00  \n",
        "1   0.015  0.00  0.030  0.0250 -0.05214  0.0300    0.00  \n",
        "2   0.015  0.00  0.030  0.0250 -0.05214  0.0300    0.00  \n",
        "3   0.015  0.00  0.030  0.0250 -0.05214  0.0300    0.00  \n",
        "4   0.015  0.00  0.030  0.0250 -0.05214  0.0300    0.00  \n",
        "5   0.015  0.00  0.030  0.0250 -0.05214  0.0300    0.00  \n",
        "6   0.015 -0.05  0.001  0.0025 -0.05000  0.5000    0.02  \n",
        "7   0.015 -0.05  0.001  0.0025 -0.05000  0.5000    0.02  \n",
        "8   0.015 -0.05  0.001  0.0025 -0.05000  0.5000    0.02  \n",
        "9   0.015 -0.05  0.001  0.0025 -0.05000  0.5000    0.02  \n",
        "10  0.015 -0.05  0.001  0.0025 -0.05000  0.5000    0.02  \n",
        "11  0.015 -0.05  0.001  0.0025 -0.05000  0.5000    0.02  \n",
        "12  0.015 -0.05  0.001  0.0025 -0.05000  0.5000    0.02  \n",
        "13  0.015 -0.05  0.001  0.0025 -0.05000  0.5000    0.02  \n",
        "14  0.015  0.00  0.030  0.2000 -0.05184  0.0306    0.00  \n",
        "15  0.015 -0.05  0.001  0.0025  0.00000  0.0000    0.00  \n",
        "16  0.015 -0.05  0.001  0.0025  0.00000  0.0000    0.00  \n",
        "17  0.015 -0.05  0.001  0.0025  0.00000  0.0000    0.00  \n",
        "18  0.015 -0.05  0.001  0.0025  0.00000  0.0000    0.00  \n",
        "19  0.015 -0.05  0.001  0.0025  0.00000  0.0000    0.00  \n",
        "20  0.015 -0.05  0.001  0.0025  0.00000  0.0000    0.00  "
       ]
      }
     ],
     "prompt_number": 2
    },
    {
     "cell_type": "markdown",
     "metadata": {},
     "source": [
      "The synaptic connection attributes inside a cartridge and those specified by Composition Rule II are loaded from the csv file ``synapse_lamina.csv``. A few examples are listed below. Descriptions of each of the columns follow:\n",
      "\n",
      "* ``prename``, ``postname`` - Indicate the neurons connected by the synapse.\n",
      "* ``model`` - Indicates the synapse model used in the LPU. \n",
      "* ``cart`` - Specifies the relative position from the cartridge of the presynaptic neuron to that of the postsynaptic neuron (see In [6] below). \n",
      "* ``mode`` - indicates if the synapse affects the neurotransmitter release at the axon terminals of the postsynaptic neuron. \n",
      "* ``scale`` is the number of synapses between the pre- and post-synaptic neurons. \n",
      "\n",
      "The remaining columns are synapse model parameters."
     ]
    },
    {
     "cell_type": "code",
     "collapsed": false,
     "input": [
      "synapse_data = pd.read_csv(\"./synapse_lamina.csv\")\n",
      "synapse_data = synapse_data.dropna(axis=1)\n",
      "synapse_data.head(n=7)"
     ],
     "language": "python",
     "metadata": {},
     "outputs": [
      {
       "html": [
        "<div style=\"max-height:1000px;max-width:1500px;overflow:auto;\">\n",
        "<table border=\"1\" class=\"dataframe\">\n",
        "  <thead>\n",
        "    <tr style=\"text-align: right;\">\n",
        "      <th></th>\n",
        "      <th>prename</th>\n",
        "      <th>postname</th>\n",
        "      <th>model</th>\n",
        "      <th>cart</th>\n",
        "      <th>reverse</th>\n",
        "      <th>delay</th>\n",
        "      <th>threshold</th>\n",
        "      <th>slope</th>\n",
        "      <th>power</th>\n",
        "      <th>saturation</th>\n",
        "      <th>scale</th>\n",
        "      <th>mode</th>\n",
        "    </tr>\n",
        "  </thead>\n",
        "  <tbody>\n",
        "    <tr>\n",
        "      <th>0</th>\n",
        "      <td> R1</td>\n",
        "      <td> L1</td>\n",
        "      <td> power_gpot_gpot</td>\n",
        "      <td> 0</td>\n",
        "      <td>-0.08</td>\n",
        "      <td> 1</td>\n",
        "      <td>-0.05214</td>\n",
        "      <td> 0.02</td>\n",
        "      <td> 1</td>\n",
        "      <td> 0.0008</td>\n",
        "      <td> 40</td>\n",
        "      <td> 0</td>\n",
        "    </tr>\n",
        "    <tr>\n",
        "      <th>1</th>\n",
        "      <td> R1</td>\n",
        "      <td> L2</td>\n",
        "      <td> power_gpot_gpot</td>\n",
        "      <td> 0</td>\n",
        "      <td>-0.08</td>\n",
        "      <td> 1</td>\n",
        "      <td>-0.05214</td>\n",
        "      <td> 0.02</td>\n",
        "      <td> 1</td>\n",
        "      <td> 0.0008</td>\n",
        "      <td> 40</td>\n",
        "      <td> 0</td>\n",
        "    </tr>\n",
        "    <tr>\n",
        "      <th>2</th>\n",
        "      <td> L2</td>\n",
        "      <td> L4</td>\n",
        "      <td> power_gpot_gpot</td>\n",
        "      <td> 2</td>\n",
        "      <td> 0.00</td>\n",
        "      <td> 1</td>\n",
        "      <td>-0.05050</td>\n",
        "      <td> 2.00</td>\n",
        "      <td> 1</td>\n",
        "      <td> 0.0300</td>\n",
        "      <td>  4</td>\n",
        "      <td> 0</td>\n",
        "    </tr>\n",
        "    <tr>\n",
        "      <th>3</th>\n",
        "      <td> L2</td>\n",
        "      <td> L4</td>\n",
        "      <td> power_gpot_gpot</td>\n",
        "      <td> 3</td>\n",
        "      <td> 0.00</td>\n",
        "      <td> 1</td>\n",
        "      <td>-0.05050</td>\n",
        "      <td> 2.00</td>\n",
        "      <td> 1</td>\n",
        "      <td> 0.0300</td>\n",
        "      <td>  2</td>\n",
        "      <td> 0</td>\n",
        "    </tr>\n",
        "    <tr>\n",
        "      <th>4</th>\n",
        "      <td> L4</td>\n",
        "      <td> R1</td>\n",
        "      <td> power_gpot_gpot</td>\n",
        "      <td> 5</td>\n",
        "      <td> 0.00</td>\n",
        "      <td> 1</td>\n",
        "      <td>-0.05050</td>\n",
        "      <td> 2.00</td>\n",
        "      <td> 1</td>\n",
        "      <td> 0.1000</td>\n",
        "      <td>  1</td>\n",
        "      <td> 1</td>\n",
        "    </tr>\n",
        "    <tr>\n",
        "      <th>5</th>\n",
        "      <td> L4</td>\n",
        "      <td> L4</td>\n",
        "      <td> power_gpot_gpot</td>\n",
        "      <td> 4</td>\n",
        "      <td> 0.00</td>\n",
        "      <td> 1</td>\n",
        "      <td>-0.05050</td>\n",
        "      <td> 2.00</td>\n",
        "      <td> 1</td>\n",
        "      <td> 0.0500</td>\n",
        "      <td>  2</td>\n",
        "      <td> 0</td>\n",
        "    </tr>\n",
        "    <tr>\n",
        "      <th>6</th>\n",
        "      <td> L4</td>\n",
        "      <td> L5</td>\n",
        "      <td> power_gpot_gpot</td>\n",
        "      <td> 6</td>\n",
        "      <td> 0.00</td>\n",
        "      <td> 1</td>\n",
        "      <td>-0.05050</td>\n",
        "      <td> 0.50</td>\n",
        "      <td> 1</td>\n",
        "      <td> 0.1000</td>\n",
        "      <td>  1</td>\n",
        "      <td> 0</td>\n",
        "    </tr>\n",
        "  </tbody>\n",
        "</table>\n",
        "</div>"
       ],
       "metadata": {},
       "output_type": "pyout",
       "prompt_number": 3,
       "text": [
        "  prename postname            model  cart  reverse  delay  threshold  slope  \\\n",
        "0      R1       L1  power_gpot_gpot     0    -0.08      1   -0.05214   0.02   \n",
        "1      R1       L2  power_gpot_gpot     0    -0.08      1   -0.05214   0.02   \n",
        "2      L2       L4  power_gpot_gpot     2     0.00      1   -0.05050   2.00   \n",
        "3      L2       L4  power_gpot_gpot     3     0.00      1   -0.05050   2.00   \n",
        "4      L4       R1  power_gpot_gpot     5     0.00      1   -0.05050   2.00   \n",
        "5      L4       L4  power_gpot_gpot     4     0.00      1   -0.05050   2.00   \n",
        "6      L4       L5  power_gpot_gpot     6     0.00      1   -0.05050   0.50   \n",
        "\n",
        "   power  saturation  scale  mode  \n",
        "0      1      0.0008     40     0  \n",
        "1      1      0.0008     40     0  \n",
        "2      1      0.0300      4     0  \n",
        "3      1      0.0300      2     0  \n",
        "4      1      0.1000      1     1  \n",
        "5      1      0.0500      2     0  \n",
        "6      1      0.1000      1     0  "
       ]
      }
     ],
     "prompt_number": 3
    },
    {
     "cell_type": "markdown",
     "metadata": {},
     "source": [
      "To change the lamina circuitry, rows may be added, deleted, or modified in both csv files. \n",
      "These files are processed by the ``generate_lamina_gexf.py`` script to generate a GEXF file containing the full lamina configuration comprising 768 cartridges; this file may be used to instantiate the lamina LPU using Neurokernel."
     ]
    },
    {
     "cell_type": "code",
     "collapsed": false,
     "input": [
      "%run generate_lamina_gexf.py"
     ],
     "language": "python",
     "metadata": {},
     "outputs": [],
     "prompt_number": 4
    },
    {
     "cell_type": "markdown",
     "metadata": {},
     "source": [
      "The next section describes the steps in the generation of an LPU configuration using the data in the csv files described above."
     ]
    },
    {
     "cell_type": "heading",
     "level": 3,
     "metadata": {},
     "source": [
      "Generation of Lamina Configuration and Creating GEXF"
     ]
    },
    {
     "cell_type": "markdown",
     "metadata": {},
     "source": [
      "We first generate a lamina configuration model using the above two csv files, for a total of 24$\\times$32=768 cartridges, where 24 is the number of rows and 32 is the number of columns for a hexagonal array. The hexagonal array is shown below."
     ]
    },
    {
     "cell_type": "code",
     "collapsed": false,
     "input": [
      "%cd -q ~/neurokernel/examples/lamina/data\n",
      "import vision_configuration as vc\n",
      "lamina = vc.Lamina(24, 32, 'neuron_types_lamina.csv', 'synapse_lamina.csv', None)\n",
      "print lamina.num_cartridges"
     ],
     "language": "python",
     "metadata": {},
     "outputs": [
      {
       "output_type": "stream",
       "stream": "stdout",
       "text": [
        "768\n"
       ]
      }
     ],
     "prompt_number": 5
    },
    {
     "cell_type": "code",
     "collapsed": false,
     "input": [
      "figure(figsize=(15,7))\n",
      "X = lamina.hexarray.X\n",
      "Y = lamina.hexarray.Y\n",
      "plot(X.reshape(-1), Y.reshape(-1), 'o', markerfacecolor = 'w', \n",
      "    markeredgecolor = 'b', markersize = 12)\n",
      "axis('equal')\n",
      "axis([X.min()-1, X.max()+1, Y.min()-1, Y.max()+1])\n",
      "xlabel('x (arbitrary unit)')\n",
      "ylabel('y (arbitrary unit)')\n",
      "gca().invert_yaxis()\n",
      "\n",
      "# label one cartridge position\n",
      "center_row = 12\n",
      "center_col = 16\n",
      "plot(X[center_row, center_col], Y[center_row, center_col], \n",
      "       marker = '$0$', markeredgecolor = 'r', hold = True) \n",
      "\n",
      "# find and label all its neighbors, the numbers are used for \n",
      "# column 'cart' in the synapse_lamina.csv\n",
      "neighbors = lamina.hexarray.find_neighbor(center_row, center_col)\n",
      "for neighbor, i in zip(neighbors[1:], range(1,7)):\n",
      "    if neighbor is not None:\n",
      "        neighbor_row = lamina.hexarray.row[neighbor]\n",
      "        neighbor_col = lamina.hexarray.col[neighbor]\n",
      "        plot(X[neighbor_row, neighbor_col], Y [neighbor_row, neighbor_col], \n",
      "               marker = '$'+str(i)+'$', markeredgecolor = 'r', hold = True) \n",
      "    \n",
      "tx1 = text(55, 10, 'Anterior', fontsize=12)\n",
      "ar1 = arrow(65, 9.5, -3, 0, head_width = 1, color = 'k')\n",
      "tx2 = text(63, 4, 'Dorsal', fontsize = 12)\n",
      "ar2 = arrow(65, 9.5, 0, -3, head_width = 1, color = 'k')"
     ],
     "language": "python",
     "metadata": {},
     "outputs": [
      {
       "metadata": {},
       "output_type": "display_data",
       "png": "[encoded data removed]",
       "text": [
        "<matplotlib.figure.Figure at 0x7ffeb40b89d0>"
       ]
      }
     ],
     "prompt_number": 6
    },
    {
     "cell_type": "markdown",
     "metadata": {},
     "source": [
      "We now create all the cartridges. Each cartridge contains one copy of all specified columnar neurons and elements as well as all the intra-cartridge connections. Individual neurons and synapses in each cartridge can be accessed as follows:"
     ]
    },
    {
     "cell_type": "code",
     "collapsed": false,
     "input": [
      "lamina.create_cartridges()\n",
      "lamina.cartridges[100]"
     ],
     "language": "python",
     "metadata": {},
     "outputs": [
      {
       "metadata": {},
       "output_type": "pyout",
       "prompt_number": 7,
       "text": [
        "Isolated cartridge at 0x7ffeb2da86d0"
       ]
      }
     ],
     "prompt_number": 7
    },
    {
     "cell_type": "code",
     "collapsed": false,
     "input": [
      "lamina.cartridges[100].neurons['L2']"
     ],
     "language": "python",
     "metadata": {},
     "outputs": [
      {
       "metadata": {},
       "output_type": "pyout",
       "prompt_number": 8,
       "text": [
        "neuron L2: {'phi': 0.0025, 'initn': 0.5, 'output': 1, 'offset': 0.02, 'extern': 0, 'spiking': False, 'dummy': 0, 'name': 'L2', 'V1': -0.001, 'initV': -0.05, 'V2': 0.015, 'V3': -0.05, 'V4': 0.001, 'input': 0, 'model': 'MorrisLecar', 'columnar': 1, 'public': 1}"
       ]
      }
     ],
     "prompt_number": 8
    },
    {
     "cell_type": "code",
     "collapsed": false,
     "input": [
      "lamina.cartridges[100].synapses[8]"
     ],
     "language": "python",
     "metadata": {},
     "outputs": [
      {
       "metadata": {},
       "output_type": "pyout",
       "prompt_number": 9,
       "text": [
        "synapse from R3 to L2: {'slope': 0.02, 'saturation': 0.0008, 'postname': 'L2', 'reverse': -0.08, 'power': 1.0, 'cart': 0, 'delay': 1.0, 'prename': 'R3', 'conductance': True, 'scale': 37.0, 'mode': 0, 'threshold': -0.05214, 'model': 'power_gpot_gpot', 'class': 3}"
       ]
      }
     ],
     "prompt_number": 9
    },
    {
     "cell_type": "markdown",
     "metadata": {},
     "source": [
      "We assign each cartridge to a position on the hexagonal grid and link it to its 6 immediate neighbor cartridges; the first element of the ``neighbors`` attribute is the cartridge itself, while the remaining 6 elements are its neighbors:"
     ]
    },
    {
     "cell_type": "code",
     "collapsed": false,
     "input": [
      "lamina.connect_cartridges()\n",
      "lamina.cartridges[100].neighbors"
     ],
     "language": "python",
     "metadata": {},
     "outputs": [
      {
       "metadata": {},
       "output_type": "pyout",
       "prompt_number": 10,
       "text": [
        "[Cartridge at (6.928203230275509, 6.0),\n",
        " Cartridge at (6.928203230275509, 4.0),\n",
        " Cartridge at (5.196152422706632, 5.0),\n",
        " Cartridge at (5.196152422706632, 7.0),\n",
        " Cartridge at (6.928203230275509, 8.0),\n",
        " Cartridge at (8.660254037844386, 7.0),\n",
        " Cartridge at (8.660254037844386, 5.0)]"
       ]
      }
     ],
     "prompt_number": 10
    },
    {
     "cell_type": "markdown",
     "metadata": {},
     "source": [
      "The non-columnar neurons are created as follows:"
     ]
    },
    {
     "cell_type": "code",
     "collapsed": false,
     "input": [
      "lamina.create_non_columnar_neurons()"
     ],
     "language": "python",
     "metadata": {},
     "outputs": [],
     "prompt_number": 11
    },
    {
     "cell_type": "markdown",
     "metadata": {},
     "source": [
      "After all the cartridges and non-columnar neurons are created, we can specify interconnects between cartridges based on the composition rules. We first configure inter-cartridge synapses based on Composition Rule II:"
     ]
    },
    {
     "cell_type": "code",
     "collapsed": false,
     "input": [
      "lamina.connect_composition_II()"
     ],
     "language": "python",
     "metadata": {},
     "outputs": [],
     "prompt_number": 12
    },
    {
     "cell_type": "markdown",
     "metadata": {},
     "source": [
      "In the example below, the L4 neuron in cartridge 100 (shown as a red dot), receives inputs (green lines) from neurons in some neighboring cartridges (green dots), and provides outputs (blue lines) to neurons in other neighboring cartridges (blue dots):"
     ]
    },
    {
     "cell_type": "code",
     "collapsed": false,
     "input": [
      "figure(figsize=(15,7))\n",
      "plot(X.reshape(-1), Y.reshape(-1), 'o', markerfacecolor = 'w', \n",
      "     markeredgecolor = 'b', markersize = 10)\n",
      "axis('equal')\n",
      "axis([X.min()-1, X.max()+1, Y.min()-1, Y.max()+1])\n",
      "gca().invert_yaxis()\n",
      "\n",
      "# plot the position of L4 neuron in cartridge 236\n",
      "neuron = lamina.cartridges[236].neurons['L4']\n",
      "x, y = neuron.position()\n",
      "plot(x, y, 'o', markerfacecolor = 'r', markersize = 10, hold = True)\n",
      "\n",
      "# plot the positions of the neuron the L4 neuron is presynaptic to\n",
      "for synapse in neuron.outgoing_synapses:\n",
      "    post_x, post_y = synapse.post_neuron.position()\n",
      "    plot(post_x+0.1, post_y+0.1, 'o', markerfacecolor = 'b', markersize = 3, hold = True)\n",
      "    plot([x, post_x+0.1], [y, post_y+0.1], 'b', hold = True)\n",
      "\n",
      "# plot the positions of the neuron the L4 neuron is postsynaptic to\n",
      "for synapse in neuron.incoming_synapses:\n",
      "    pre_x, pre_y = synapse.pre_neuron.position()\n",
      "    plot(pre_x-0.1, pre_y-0.1, 'o', markerfacecolor = 'g', markersize = 3, hold = True)\n",
      "    plot([x, pre_x-0.1], [y, pre_y-0.1], 'g', hold = True)\n",
      "    \n",
      "xlabel('x (arbitrary unit)')\n",
      "ylabel('y (arbitrary unit)')\n",
      "tx1 = text(55, 10, 'Anterior', fontsize=12)\n",
      "ar1 = arrow(65, 9.5, -3, 0, head_width = 1, color = 'k')\n",
      "tx2 = text(63, 4, 'Dorsal', fontsize = 12)\n",
      "ar2 = arrow(65, 9.5, 0, -3, head_width = 1, color = 'k')"
     ],
     "language": "python",
     "metadata": {},
     "outputs": [
      {
       "metadata": {},
       "output_type": "display_data",
       "png": "[encoded data removed]",
       "text": [
        "<matplotlib.figure.Figure at 0x7ffeaf17c050>"
       ]
      }
     ],
     "prompt_number": 13
    },
    {
     "cell_type": "markdown",
     "metadata": {},
     "source": [
      "We then configure inter-cartridge synapses based on Composition Rule I:"
     ]
    },
    {
     "cell_type": "code",
     "collapsed": false,
     "input": [
      "lamina.connect_composition_I()"
     ],
     "language": "python",
     "metadata": {},
     "outputs": [],
     "prompt_number": 14
    },
    {
     "cell_type": "markdown",
     "metadata": {},
     "source": [
      "In the example below, amacrine cell 0 (red dot) receives inputs (green lines) from neurons in several neighboring cartridges (green dots), and provides outputs (blue lines) to neurons in other neighboring cartridges (blue dots):"
     ]
    },
    {
     "cell_type": "code",
     "collapsed": false,
     "input": [
      "figure(figsize = (15,7))\n",
      "plot(X.reshape(-1), Y.reshape(-1), 'o', markerfacecolor = 'w', \n",
      "     markeredgecolor = 'b', markersize = 10)\n",
      "axis('equal')\n",
      "axis([X.min()-1, X.max()+1, Y.min()-1, Y.max()+1])\n",
      "gca().invert_yaxis()\n",
      "\n",
      "# plot the position of Amacrine cell 240\n",
      "neuron = lamina.non_columnar_neurons[240]\n",
      "x, y = neuron.position()\n",
      "plot(x, y, 'o', markerfacecolor = 'r', markersize = 10, hold = True)\n",
      "\n",
      "# plot the positions of the neuron the Am 240 is presynaptic to\n",
      "for synapse in neuron.outgoing_synapses:\n",
      "    post_x, post_y = synapse.post_neuron.position()\n",
      "    plot(post_x+0.1, post_y+0.1, 'o', markerfacecolor = 'b', markersize = 3, hold = True)\n",
      "    plot([x, post_x+0.1], [y, post_y+0.1], 'b', hold = True)\n",
      "# plot the positions of the neuron the Am 0 is postsynaptic to\n",
      "for synapse in neuron.incoming_synapses:\n",
      "    pre_x, pre_y = synapse.pre_neuron.position()\n",
      "    plot(pre_x-0.1, pre_y-0.1, 'o', markerfacecolor = 'g', markersize = 3, hold = True)\n",
      "    plot([x, pre_x-0.1], [y, pre_y-0.1], 'g', hold = True)\n",
      "\n",
      "xlabel('x (arbitrary unit)')\n",
      "ylabel('y (arbitrary unit)')\n",
      "tx1 = text(55, 10, 'Anterior', fontsize=12)\n",
      "ar1 = arrow(65, 9.5, -3, 0, head_width = 1, color = 'k')\n",
      "tx2 = text(63, 4, 'Dorsal', fontsize = 12)\n",
      "ar2 = arrow(65, 9.5, 0, -3, head_width = 1, color = 'k')"
     ],
     "language": "python",
     "metadata": {},
     "outputs": [
      {
       "metadata": {},
       "output_type": "display_data",
       "png": "[encoded data removed]",
       "text": [
        "<matplotlib.figure.Figure at 0x7ffeafeeda90>"
       ]
      }
     ],
     "prompt_number": 15
    },
    {
     "cell_type": "markdown",
     "metadata": {},
     "source": [
      "Finally, we output the full configuration to GEXF file format that can be used to instantiate the lamina LPU:"
     ]
    },
    {
     "cell_type": "code",
     "collapsed": false,
     "input": [
      "lamina.export_to_gexf('lamina.gexf.gz')"
     ],
     "language": "python",
     "metadata": {},
     "outputs": [],
     "prompt_number": 16
    },
    {
     "cell_type": "heading",
     "level": 3,
     "metadata": {},
     "source": [
      "Executing the Model"
     ]
    },
    {
     "cell_type": "markdown",
     "metadata": {},
     "source": [
      "We first generate an input of duration 1.0 second and then execute the model:"
     ]
    },
    {
     "cell_type": "code",
     "collapsed": false,
     "input": [
      "%cd -q ~/neurokernel/examples/lamina/data\n",
      "%run gen_vis_input.py\n",
      "%cd -q ~/neurokernel/examples/lamina\n",
      "%run lamina_demo.py"
     ],
     "language": "python",
     "metadata": {},
     "outputs": [],
     "prompt_number": 17
    },
    {
     "cell_type": "markdown",
     "metadata": {},
     "source": [
      "Next, we generate a video of the membrane potentials of specific neurons:"
     ]
    },
    {
     "cell_type": "code",
     "collapsed": false,
     "input": [
      "%run visualize_output.py"
     ],
     "language": "python",
     "metadata": {},
     "outputs": [
      {
       "metadata": {},
       "output_type": "display_data",
       "png": "[encoded data removed]",
       "text": [
        "<matplotlib.figure.Figure at 0x7ffe7d90d450>"
       ]
      }
     ],
     "prompt_number": 18
    },
    {
     "cell_type": "markdown",
     "metadata": {},
     "source": [
      "The visualization script produces a video that depicts an input video signal provided to the retina and the responses of R1, L1, L2, L3 and L4 neurons in all the cartridges. Each pixel in the visualization corresponds to the neuron associated with one cartridge."
     ]
    },
    {
     "cell_type": "code",
     "collapsed": false,
     "input": [
      "import IPython.display\n",
      "IPython.display.YouTubeVideo('QDVoro2GhAU')"
     ],
     "language": "python",
     "metadata": {},
     "outputs": [
      {
       "html": [
        "\n",
        "        <iframe\n",
        "            width=\"400\"\n",
        "            height=300\"\n",
        "            src=\"https://www.youtube.com/embed/QDVoro2GhAU\"\n",
        "            frameborder=\"0\"\n",
        "            allowfullscreen\n",
        "        ></iframe>\n",
        "        "
       ],
       "metadata": {},
       "output_type": "pyout",
       "prompt_number": 19,
       "text": [
        "<IPython.lib.display.YouTubeVideo at 0x7ffeafcc2e50>"
       ]
      }
     ],
     "prompt_number": 19
    }
   ],
   "metadata": {}
  }
 ]
}

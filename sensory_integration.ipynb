{
 "metadata": {
  "name": "sensory_integration1"
 },
 "nbformat": 3,
 "nbformat_minor": 0,
 "worksheets": [
  {
   "cells": [
    {
     "cell_type": "heading",
     "level": 1,
     "metadata": {},
     "source": [
      "Multi-Sensory Integration Demo"
     ]
    },
    {
     "cell_type": "markdown",
     "metadata": {},
     "source": [
      "This notebook illustrates a use case of a Neurokernel-based multisensory integration model.\n",
      "It shows the ability of Neurokernel to integrate inputs from multiple sensory LPUs that are developed by independent teams.\n",
      "We demonstrate a simple visual-olfactory integration that detects simultaneous multisensory events."
     ]
    },
    {
     "cell_type": "heading",
     "level": 3,
     "metadata": {},
     "source": [
      "Configuration"
     ]
    },
    {
     "cell_type": "markdown",
     "metadata": {},
     "source": [
      "The Lamina, Medulla and the Antennal Lobe LPUs are configured according to their corresponding configuration files in the data folder. They were developed by two teams independently. Note that, in the implementation, the Retina is integrated into the Lamina LPU and the Antennae and Maxillary Palp are integrated into the Antennal Lobe LPU.\n",
      "We need to generate the visual input and odorant input to the olfactory system:"
     ]
    },
    {
     "cell_type": "code",
     "collapsed": false,
     "input": [
      "%cd -q ~/neurokernel/examples/sensory_integration/data\n",
      "%run gen_vis_input.py\n",
      "%run gen_olf_input.py "
     ],
     "language": "python",
     "metadata": {},
     "outputs": [],
     "prompt_number": 1
    },
    {
     "cell_type": "markdown",
     "metadata": {},
     "source": [
      "Here we built an LPU modeling a simple visual-olfactory integration. This LPU is built for illustration purpose and does not directly correspond to any specific biological LPU in the fruit fly.\n",
      "The integration LPU consists of 8 neurons. They each admits inputs from both the Medulla and the Antennal Lobe.\n",
      "\n",
      "The neurons from the Medulla that projects to the integration LPU are 8 wide field tangential neurons. Those eight neurons each innervates\n",
      "columns in the Medulla that are restricted in part of the visual field. They are sensitive to quick light intensity change in the corresponding part of the visual field. As illustrated in the figures below, the area within the rectangles show, in different colors, the domain of columns each tangential neuron innervates to. The black frame is the entire visual field. Note that the function of these eight neurons are hypothetical for illustrating the integration, and therefore may not correspond to the actual neurons."
     ]
    },
    {
     "cell_type": "code",
     "collapsed": false,
     "input": [
      "%cd -q ~/neurokernel/notebooks/\n",
      "import IPython.display\n",
      "IPython.display.SVG(filename='medulla_wide_field_coverage.svg')"
     ],
     "language": "python",
     "metadata": {},
     "outputs": [
      {
       "output_type": "pyout",
       "prompt_number": 2,
       "svg": [
        "<svg height=\"156\" id=\"svg2\" inkscape:export-filename=\"/Volumes/MacHD2/dev/bionet/neurokernel_git/examples/medulla_wide_field_coverage.png\" inkscape:export-xdpi=\"50\" inkscape:export-ydpi=\"50\" inkscape:version=\"0.47 r22583\" sodipodi:docname=\"medulla_wide_field_coverage.svg\" version=\"1.1\" width=\"280\" xmlns=\"http://www.w3.org/2000/svg\" xmlns:cc=\"http://creativecommons.org/ns#\" xmlns:dc=\"http://purl.org/dc/elements/1.1/\" xmlns:inkscape=\"http://www.inkscape.org/namespaces/inkscape\" xmlns:rdf=\"http://www.w3.org/1999/02/22-rdf-syntax-ns#\" xmlns:sodipodi=\"http://sodipodi.sourceforge.net/DTD/sodipodi-0.dtd\" xmlns:svg=\"http://www.w3.org/2000/svg\">\n",
        "  <defs id=\"defs4\">\n",
        "    <inkscape:perspective id=\"perspective2941\" inkscape:persp3d-origin=\"372.04724 : 350.78739 : 1\" inkscape:vp_x=\"0 : 526.18109 : 1\" inkscape:vp_y=\"0 : 1000 : 0\" inkscape:vp_z=\"744.09448 : 526.18109 : 1\" sodipodi:type=\"inkscape:persp3d\"/>\n",
        "  </defs>\n",
        "  <sodipodi:namedview bordercolor=\"#666666\" borderopacity=\"1.0\" id=\"base\" inkscape:current-layer=\"layer1\" inkscape:cx=\"16.735227\" inkscape:cy=\"-3.0714397\" inkscape:document-units=\"px\" inkscape:pageopacity=\"0.0\" inkscape:pageshadow=\"2\" inkscape:window-height=\"576\" inkscape:window-maximized=\"1\" inkscape:window-width=\"1024\" inkscape:window-x=\"-1\" inkscape:window-y=\"-1\" inkscape:zoom=\"0.7\" pagecolor=\"#ffffff\" showgrid=\"false\"/>\n",
        "  <metadata id=\"metadata7\">\n",
        "    <rdf:RDF>\n",
        "      <cc:Work rdf:about=\"\">\n",
        "        <dc:format>image/svg+xml</dc:format>\n",
        "        <dc:type rdf:resource=\"http://purl.org/dc/dcmitype/StillImage\"/>\n",
        "        <dc:title/>\n",
        "      </cc:Work>\n",
        "    </rdf:RDF>\n",
        "  </metadata>\n",
        "  <g id=\"layer1\" inkscape:groupmode=\"layer\" inkscape:label=\"Layer 1\" transform=\"translate(-293.07141,-373.29074)\">\n",
        "    <rect height=\"33.571445\" id=\"rect3797\" style=\"opacity:0.2;fill:#808000;stroke:#808000;stroke-width:1;stroke-linecap:butt;stroke-linejoin:round;stroke-miterlimit:4;stroke-opacity:1;stroke-dasharray:none;stroke-dashoffset:0\" width=\"117.14285\" x=\"450.85715\" y=\"489.93359\"/>\n",
        "    <rect height=\"150\" id=\"rect2985\" style=\"fill:none;stroke:#000000;stroke-width:1;stroke-linecap:butt;stroke-linejoin:round;stroke-miterlimit:4;stroke-opacity:1;stroke-dasharray:none;stroke-dashoffset:0\" width=\"122.85714\" x=\"297.57141\" y=\"376.79074\"/>\n",
        "    <rect height=\"145.00002\" id=\"rect3765\" style=\"opacity:0.2;fill:#ffff00;stroke:#ffff00;stroke-width:1;stroke-linecap:butt;stroke-linejoin:round;stroke-miterlimit:4;stroke-opacity:1;stroke-dasharray:none;stroke-dashoffset:0\" width=\"27.857121\" x=\"389.71429\" y=\"378.50504\"/>\n",
        "    <rect height=\"145.00002\" id=\"rect3767\" style=\"opacity:0.2;fill:#008000;stroke:#008000;stroke-width:1;stroke-linecap:butt;stroke-linejoin:round;stroke-miterlimit:4;stroke-opacity:1;stroke-dasharray:none;stroke-dashoffset:0\" width=\"29.999973\" x=\"357.71429\" y=\"378.50504\"/>\n",
        "    <rect height=\"145.71429\" id=\"rect3769\" style=\"opacity:0.2;fill:#0000ff;stroke:#0000ff;stroke-width:1;stroke-linecap:butt;stroke-linejoin:round;stroke-miterlimit:4;stroke-opacity:1;stroke-dasharray:none;stroke-dashoffset:0\" width=\"25.71427\" x=\"331.14285\" y=\"377.79077\"/>\n",
        "    <rect height=\"145.00002\" id=\"rect3771\" style=\"opacity:0.2;fill:#ff0000;stroke:#ff0000;stroke-width:1;stroke-linecap:butt;stroke-linejoin:round;stroke-miterlimit:4;stroke-opacity:1;stroke-dasharray:none;stroke-dashoffset:0\" width=\"29.285692\" x=\"300.85715\" y=\"378.50504\"/>\n",
        "    <text id=\"text3773\" sodipodi:linespacing=\"125%\" style=\"font-size:20px;font-style:normal;font-weight:normal;line-height:125%;letter-spacing:0px;word-spacing:0px;fill:#000000;fill-opacity:1;stroke:none;font-family:Times New Roman;-inkscape-font-specification:Times New Roman\" x=\"339\" xml:space=\"preserve\" y=\"460.36218\"><tspan id=\"tspan3775\" sodipodi:role=\"line\" x=\"339\" y=\"460.36218\">1</tspan></text>\n",
        "    <text id=\"text3777\" sodipodi:linespacing=\"125%\" style=\"font-size:20px;font-style:normal;font-weight:normal;line-height:125%;letter-spacing:0px;word-spacing:0px;fill:#000000;fill-opacity:1;stroke:none;font-family:Times New Roman;-inkscape-font-specification:Times New Roman\" x=\"367.57141\" xml:space=\"preserve\" y=\"459.64789\"><tspan id=\"tspan3779\" sodipodi:role=\"line\" x=\"367.57141\" y=\"459.64789\">2</tspan></text>\n",
        "    <text id=\"text3781\" sodipodi:linespacing=\"125%\" style=\"font-size:20px;font-style:normal;font-weight:normal;line-height:125%;letter-spacing:0px;word-spacing:0px;fill:#000000;fill-opacity:1;stroke:none;font-family:Times New Roman;-inkscape-font-specification:Times New Roman\" x=\"398.28571\" xml:space=\"preserve\" y=\"459.64789\"><tspan id=\"tspan3783\" sodipodi:role=\"line\" x=\"398.28571\" y=\"459.64789\">3</tspan></text>\n",
        "    <text id=\"text3785\" sodipodi:linespacing=\"125%\" style=\"font-size:20px;font-style:normal;font-weight:normal;line-height:125%;letter-spacing:0px;word-spacing:0px;fill:#000000;fill-opacity:1;stroke:none;font-family:Times New Roman;-inkscape-font-specification:Times New Roman\" x=\"503.28571\" xml:space=\"preserve\" y=\"402.505\"><tspan id=\"tspan3787\" sodipodi:role=\"line\" x=\"503.28571\" y=\"402.505\">4</tspan></text>\n",
        "    <rect height=\"150\" id=\"rect3789\" style=\"fill:none;stroke:#000000;stroke-width:1;stroke-linecap:butt;stroke-linejoin:round;stroke-miterlimit:4;stroke-opacity:1;stroke-dasharray:none;stroke-dashoffset:0\" width=\"122.85714\" x=\"447.57141\" y=\"376.79074\"/>\n",
        "    <rect height=\"33.571449\" id=\"rect3791\" style=\"opacity:0.2;fill:#800000;stroke:#800000;stroke-width:1;stroke-linecap:butt;stroke-linejoin:round;stroke-miterlimit:4;stroke-opacity:1;stroke-dasharray:none;stroke-dashoffset:0\" width=\"116.42854\" x=\"451.14285\" y=\"377.79077\"/>\n",
        "    <rect height=\"33.571449\" id=\"rect3793\" style=\"opacity:0.2;fill:#00ff00;stroke:#00ff00;stroke-width:1;stroke-linecap:butt;stroke-linejoin:round;stroke-miterlimit:4;stroke-opacity:1;stroke-dasharray:none;stroke-dashoffset:0\" width=\"118.57143\" x=\"449.85715\" y=\"414.21933\"/>\n",
        "    <rect height=\"35.000023\" id=\"rect3795\" style=\"opacity:0.2;fill:#ff00ff;stroke:#ff00ff;stroke-width:1;stroke-linecap:butt;stroke-linejoin:round;stroke-miterlimit:4;stroke-opacity:1;stroke-dasharray:none;stroke-dashoffset:0\" width=\"115.71426\" x=\"451.14285\" y=\"452.07648\"/>\n",
        "    <text id=\"text3799\" sodipodi:linespacing=\"125%\" style=\"font-size:20px;font-style:normal;font-weight:normal;line-height:125%;letter-spacing:0px;word-spacing:0px;fill:#000000;fill-opacity:1;stroke:none;font-family:Times New Roman;-inkscape-font-specification:Times New Roman\" x=\"502.57141\" xml:space=\"preserve\" y=\"438.93359\"><tspan id=\"tspan3801\" sodipodi:role=\"line\" x=\"502.57141\" y=\"438.93359\">5</tspan></text>\n",
        "    <text id=\"text3803\" sodipodi:linespacing=\"125%\" style=\"font-size:20px;font-style:normal;font-weight:normal;line-height:125%;letter-spacing:0px;word-spacing:0px;fill:#000000;fill-opacity:1;stroke:none;font-family:Times New Roman;-inkscape-font-specification:Times New Roman\" x=\"503.28571\" xml:space=\"preserve\" y=\"476.79071\"><tspan id=\"tspan3805\" sodipodi:role=\"line\" x=\"503.28571\" y=\"476.79071\">6</tspan></text>\n",
        "    <text id=\"text3807\" sodipodi:linespacing=\"125%\" style=\"font-size:20px;font-style:normal;font-weight:normal;line-height:125%;letter-spacing:0px;word-spacing:0px;fill:#000000;fill-opacity:1;stroke:none;font-family:Times New Roman;-inkscape-font-specification:Times New Roman\" x=\"503.99997\" xml:space=\"preserve\" y=\"514.64789\"><tspan id=\"tspan3809\" sodipodi:role=\"line\" x=\"503.99997\" y=\"514.64789\">7</tspan></text>\n",
        "    <text id=\"text3811\" sodipodi:linespacing=\"125%\" style=\"font-size:20px;font-style:normal;font-weight:normal;line-height:125%;letter-spacing:0px;word-spacing:0px;fill:#000000;fill-opacity:1;stroke:none;font-family:Times New Roman;-inkscape-font-specification:Times New Roman\" x=\"311.85712\" xml:space=\"preserve\" y=\"459.64789\"><tspan id=\"tspan3813\" sodipodi:role=\"line\" x=\"311.85712\" y=\"459.64789\">0</tspan></text>\n",
        "  </g>\n",
        "</svg>"
       ],
       "text": [
        "<IPython.core.display.SVG at 0x26deb50>"
       ]
      }
     ],
     "prompt_number": 2
    },
    {
     "cell_type": "markdown",
     "metadata": {},
     "source": [
      "Then, we construct the interconnection between the Antennal Lobe and the integration LPU. In this case, all 3 projection neurons in the Glomerulus DA1 are projected to each of the neurons in the integration LPU. The interconnection between the LPUs in this example is shown in the diagram below:"
     ]
    },
    {
     "cell_type": "code",
     "collapsed": false,
     "input": [
      "IPython.display.SVG(filename='schematic_diagram.svg')"
     ],
     "language": "python",
     "metadata": {},
     "outputs": [
      {
       "output_type": "pyout",
       "prompt_number": 3,
       "svg": [
        "<svg height=\"120\" id=\"svg2\" inkscape:export-filename=\"/Volumes/MacHD2/dev/bionet/neurokernel_git/examples/schematic_diagram.png\" inkscape:export-xdpi=\"50\" inkscape:export-ydpi=\"50\" inkscape:version=\"0.47 r22583\" sodipodi:docname=\"schematic_diagram.svg\" version=\"1.1\" width=\"530\" xmlns=\"http://www.w3.org/2000/svg\" xmlns:cc=\"http://creativecommons.org/ns#\" xmlns:dc=\"http://purl.org/dc/elements/1.1/\" xmlns:inkscape=\"http://www.inkscape.org/namespaces/inkscape\" xmlns:rdf=\"http://www.w3.org/1999/02/22-rdf-syntax-ns#\" xmlns:sodipodi=\"http://sodipodi.sourceforge.net/DTD/sodipodi-0.dtd\" xmlns:svg=\"http://www.w3.org/2000/svg\">\n",
        "  <defs id=\"defs4\">\n",
        "    <inkscape:perspective id=\"perspective2930\" inkscape:persp3d-origin=\"372.04724 : 350.78739 : 1\" inkscape:vp_x=\"0 : 526.18109 : 1\" inkscape:vp_y=\"0 : 1000 : 0\" inkscape:vp_z=\"744.09448 : 526.18109 : 1\" sodipodi:type=\"inkscape:persp3d\"/>\n",
        "    <marker id=\"Arrow1Mend\" inkscape:stockid=\"Arrow1Mend\" orient=\"auto\" refX=\"0\" refY=\"0\" style=\"overflow:visible\">\n",
        "      <path d=\"M 0,0 5,-5 -12.5,0 5,5 0,0 z\" id=\"path3986\" style=\"fill-rule:evenodd;stroke:#000000;stroke-width:1pt;marker-start:none\" transform=\"matrix(-0.4,0,0,-0.4,-4,0)\"/>\n",
        "    </marker>\n",
        "  </defs>\n",
        "  <sodipodi:namedview bordercolor=\"#666666\" borderopacity=\"1.0\" id=\"base\" inkscape:current-layer=\"layer1\" inkscape:cx=\"330.54422\" inkscape:cy=\"25.844882\" inkscape:document-units=\"px\" inkscape:pageopacity=\"0.0\" inkscape:pageshadow=\"2\" inkscape:window-height=\"576\" inkscape:window-maximized=\"1\" inkscape:window-width=\"1024\" inkscape:window-x=\"-1\" inkscape:window-y=\"-1\" inkscape:zoom=\"1.4\" pagecolor=\"#ffffff\" showborder=\"false\" showgrid=\"false\"/>\n",
        "  <metadata id=\"metadata7\">\n",
        "    <rdf:RDF>\n",
        "      <cc:Work rdf:about=\"\">\n",
        "        <dc:format>image/svg+xml</dc:format>\n",
        "        <dc:type rdf:resource=\"http://purl.org/dc/dcmitype/StillImage\"/>\n",
        "        <dc:title/>\n",
        "      </cc:Work>\n",
        "    </rdf:RDF>\n",
        "  </metadata>\n",
        "  <g id=\"layer1\" inkscape:groupmode=\"layer\" inkscape:label=\"Layer 1\" transform=\"translate(-315.23673,-439.85945)\">\n",
        "    <rect height=\"26.495623\" id=\"rect2988\" style=\"fill:none;stroke:#000000;stroke-width:1;stroke-linecap:butt;stroke-linejoin:round;stroke-miterlimit:4;stroke-opacity:1;stroke-dasharray:none;stroke-dashoffset:0\" width=\"97.475334\" x=\"315.73892\" y=\"450.44794\"/>\n",
        "    <text id=\"text3758\" sodipodi:linespacing=\"125%\" style=\"font-size:14px;font-style:normal;font-weight:normal;line-height:125%;letter-spacing:0px;word-spacing:0px;fill:#000000;fill-opacity:1;stroke:none;font-family:Times New Roman;-inkscape-font-specification:Times New Roman\" x=\"319.76718\" xml:space=\"preserve\" y=\"467.89499\"><tspan id=\"tspan3760\" sodipodi:role=\"line\" x=\"319.76718\" y=\"467.89499\">Visual Stimulus</tspan></text>\n",
        "    <rect height=\"26.476299\" id=\"rect3762\" style=\"fill:none;stroke:#000000;stroke-width:1;stroke-linecap:butt;stroke-linejoin:round;stroke-miterlimit:4;stroke-opacity:1;stroke-dasharray:none;stroke-dashoffset:0\" width=\"55.534695\" x=\"448.40594\" y=\"450.49823\"/>\n",
        "    <text id=\"text3764\" sodipodi:linespacing=\"125%\" style=\"font-size:14px;font-style:normal;font-weight:normal;line-height:125%;letter-spacing:0px;word-spacing:0px;fill:#000000;fill-opacity:1;stroke:none;font-family:Times New Roman;-inkscape-font-specification:Times New Roman\" x=\"457.79514\" xml:space=\"preserve\" y=\"468.90515\"><tspan id=\"tspan3766\" sodipodi:role=\"line\" x=\"457.79514\" y=\"468.90515\">Retina</tspan></text>\n",
        "    <rect height=\"26.578098\" id=\"rect3768\" inkscape:export-filename=\"/home/yiyin/Documents/tmp/schemetic_diagram.png\" inkscape:export-xdpi=\"300\" inkscape:export-ydpi=\"300\" style=\"fill:none;stroke:#000000;stroke-width:1;stroke-linecap:butt;stroke-linejoin:round;stroke-miterlimit:4;stroke-opacity:1;stroke-dasharray:none;stroke-dashoffset:0\" width=\"57.151718\" x=\"316.74591\" y=\"532.37628\"/>\n",
        "    <rect height=\"26.476299\" id=\"rect3770\" style=\"fill:none;stroke:#000000;stroke-width:1;stroke-linecap:butt;stroke-linejoin:round;stroke-miterlimit:4;stroke-opacity:1;stroke-dasharray:none;stroke-dashoffset:0\" width=\"55.534695\" x=\"543.40594\" y=\"450.49823\"/>\n",
        "    <text id=\"text3772\" sodipodi:linespacing=\"125%\" style=\"font-size:14px;font-style:normal;font-weight:normal;line-height:125%;letter-spacing:0px;word-spacing:0px;fill:#000000;fill-opacity:1;stroke:none;font-family:Times New Roman;-inkscape-font-specification:Times New Roman\" x=\"550.26978\" xml:space=\"preserve\" y=\"468.40009\"><tspan id=\"tspan3774\" sodipodi:role=\"line\" x=\"550.26978\" y=\"468.40009\">Lamina</tspan></text>\n",
        "    <rect height=\"26.476299\" id=\"rect3776\" style=\"fill:none;stroke:#000000;stroke-width:1;stroke-linecap:butt;stroke-linejoin:round;stroke-miterlimit:4;stroke-opacity:1;stroke-dasharray:none;stroke-dashoffset:0\" width=\"55.534691\" x=\"635.17755\" y=\"449.9957\"/>\n",
        "    <text id=\"text3778\" sodipodi:linespacing=\"125%\" style=\"font-size:14px;font-style:normal;font-weight:normal;line-height:125%;letter-spacing:0px;word-spacing:0px;fill:#000000;fill-opacity:1;stroke:none;font-family:Times New Roman;-inkscape-font-specification:Times New Roman\" x=\"640.02106\" xml:space=\"preserve\" y=\"467.89755\"><tspan id=\"tspan3780\" sodipodi:role=\"line\" x=\"640.02106\" y=\"467.89755\">Medulla</tspan></text>\n",
        "    <text id=\"text3782\" sodipodi:linespacing=\"125%\" style=\"font-size:14px;font-style:normal;font-weight:normal;line-height:125%;letter-spacing:0px;word-spacing:0px;fill:#000000;fill-opacity:1;stroke:none;font-family:Times New Roman;-inkscape-font-specification:Times New Roman\" x=\"322.65045\" xml:space=\"preserve\" y=\"549.80365\"><tspan id=\"tspan3784\" sodipodi:role=\"line\" x=\"322.65045\" y=\"549.80365\">Odorant</tspan></text>\n",
        "    <rect height=\"26.495623\" id=\"rect3786\" style=\"fill:none;stroke:#000000;stroke-width:1;stroke-linecap:butt;stroke-linejoin:round;stroke-miterlimit:4;stroke-opacity:1;stroke-dasharray:none;stroke-dashoffset:0\" width=\"97.475334\" x=\"595.08667\" y=\"532.86163\"/>\n",
        "    <text id=\"text3788\" sodipodi:linespacing=\"125%\" style=\"font-size:14px;font-style:normal;font-weight:normal;line-height:125%;letter-spacing:0px;word-spacing:0px;fill:#000000;fill-opacity:1;stroke:none;font-family:Times New Roman;-inkscape-font-specification:Times New Roman\" x=\"601.56421\" xml:space=\"preserve\" y=\"550.41278\"><tspan id=\"tspan3790\" sodipodi:role=\"line\" x=\"601.56421\" y=\"550.41278\">Antennal Lobe</tspan></text>\n",
        "    <path d=\"m 412.70121,464.86456 33.78935,0\" id=\"path3792\" inkscape:connector-curvature=\"0\" sodipodi:nodetypes=\"cc\" style=\"fill:none;stroke:#000000;stroke-width:1;stroke-linecap:butt;stroke-linejoin:miter;stroke-miterlimit:4;stroke-opacity:1;stroke-dasharray:none;marker-start:none;marker-end:url(#Arrow1Mend)\"/>\n",
        "    <path d=\"m 504.70121,464.86456 37.00364,0\" id=\"path4418\" inkscape:connector-curvature=\"0\" sodipodi:nodetypes=\"cc\" style=\"fill:none;stroke:#000000;stroke-width:1;stroke-linecap:butt;stroke-linejoin:miter;stroke-miterlimit:4;stroke-opacity:1;stroke-dasharray:none;marker-start:none;marker-end:url(#Arrow1Mend)\"/>\n",
        "    <path d=\"m 599.34407,464.86456 34.14649,0\" id=\"path4420\" inkscape:connector-curvature=\"0\" sodipodi:nodetypes=\"cc\" style=\"fill:none;stroke:#000000;stroke-width:1;stroke-linecap:butt;stroke-linejoin:miter;stroke-miterlimit:4;stroke-opacity:1;stroke-dasharray:none;marker-start:none;marker-end:url(#Arrow1Mend)\"/>\n",
        "    <path d=\"m 563.90937,546.2478 28.78935,0\" id=\"path4422\" inkscape:connector-curvature=\"0\" style=\"fill:none;stroke:#000000;stroke-width:1;stroke-linecap:butt;stroke-linejoin:miter;stroke-miterlimit:4;stroke-opacity:1;stroke-dasharray:none;marker-start:none;marker-end:url(#Arrow1Mend)\"/>\n",
        "    <rect height=\"26.476273\" id=\"rect4424\" style=\"fill:none;stroke:#000000;stroke-width:1;stroke-linecap:butt;stroke-linejoin:round;stroke-miterlimit:4;stroke-opacity:1;stroke-dasharray:none;stroke-dashoffset:0\" width=\"64.120979\" x=\"739.40601\" y=\"491.49823\"/>\n",
        "    <text id=\"text4426\" sodipodi:linespacing=\"125%\" style=\"font-size:14px;font-style:normal;font-weight:normal;line-height:125%;letter-spacing:0px;word-spacing:0px;fill:#000000;fill-opacity:1;stroke:none;font-family:Times New Roman;-inkscape-font-specification:Times New Roman\" x=\"740.78497\" xml:space=\"preserve\" y=\"508.25214\"><tspan id=\"tspan4428\" sodipodi:role=\"line\" x=\"740.78497\" y=\"508.25214\">Integration</tspan></text>\n",
        "    <path d=\"m 693.32057,546.18184 78.7919,0 0,-26.91698\" id=\"path4430\" inkscape:connector-curvature=\"0\" sodipodi:nodetypes=\"ccc\" style=\"fill:none;stroke:#000000;stroke-width:1;stroke-linecap:butt;stroke-linejoin:miter;stroke-miterlimit:4;stroke-opacity:1;stroke-dasharray:none;marker-end:url(#Arrow1Mend)\"/>\n",
        "    <path d=\"m 691.80534,464.35948 80.01126,0 -0.0203,25.90682\" id=\"path4616\" inkscape:connector-curvature=\"0\" sodipodi:nodetypes=\"ccc\" style=\"fill:none;stroke:#000000;stroke-width:1;stroke-linecap:butt;stroke-linejoin:miter;stroke-miterlimit:4;stroke-opacity:1;stroke-dasharray:none;marker-end:url(#Arrow1Mend)\"/>\n",
        "    <path d=\"m 805.70122,504.86456 28.78935,0\" id=\"path4800\" inkscape:connector-curvature=\"0\" style=\"fill:none;stroke:#000000;stroke-width:1;stroke-linecap:butt;stroke-linejoin:miter;stroke-miterlimit:4;stroke-opacity:1;stroke-dasharray:none;marker-start:none;marker-end:url(#Arrow1Mend)\"/>\n",
        "    <rect height=\"26.203558\" id=\"rect2932\" style=\"fill:none;stroke:#000000;stroke-width:1;stroke-linecap:butt;stroke-linejoin:round;stroke-miterlimit:4;stroke-opacity:1;stroke-dasharray:none;stroke-dashoffset:0\" width=\"158.70355\" x=\"404.43314\" y=\"532.56354\"/>\n",
        "    <text id=\"text2934\" sodipodi:linespacing=\"125%\" style=\"font-size:14px;font-style:normal;font-weight:normal;line-height:125%;letter-spacing:0px;word-spacing:0px;fill:#000000;fill-opacity:1;stroke:none;font-family:Times New Roman;-inkscape-font-specification:Times New Roman\" x=\"406.36618\" xml:space=\"preserve\" y=\"549.30872\"><tspan id=\"tspan2938\" sodipodi:role=\"line\" x=\"406.36618\" y=\"549.30872\">Antennae &amp; Maxillary Palp</tspan></text>\n",
        "    <path d=\"m 373.90937,546.2478 28.78935,0\" id=\"path2942\" inkscape:connector-curvature=\"0\" style=\"fill:none;stroke:#000000;stroke-width:1;stroke-linecap:butt;stroke-linejoin:miter;stroke-miterlimit:4;stroke-opacity:1;stroke-dasharray:none;marker-start:none;marker-end:url(#Arrow1Mend)\"/>\n",
        "  </g>\n",
        "</svg>"
       ],
       "text": [
        "<IPython.core.display.SVG at 0x26de910>"
       ]
      }
     ],
     "prompt_number": 3
    },
    {
     "cell_type": "markdown",
     "metadata": {},
     "source": [
      "Note that the interconnection between the integration LPU and both the Medulla and the Antennal Lobe LPUs are configured in the simulation script rather than in a markup gexf file. The Neurokernel is flexible to accept both types of configurations."
     ]
    },
    {
     "cell_type": "heading",
     "level": 3,
     "metadata": {},
     "source": [
      "Simulation"
     ]
    },
    {
     "cell_type": "markdown",
     "metadata": {},
     "source": [
      "Now, we execute the model"
     ]
    },
    {
     "cell_type": "code",
     "collapsed": false,
     "input": [
      "%cd -q ~/neurokernel/examples/sensory_integration/\n",
      "%run sensory_integration_demo.py"
     ],
     "language": "python",
     "metadata": {},
     "outputs": [],
     "prompt_number": 4
    },
    {
     "cell_type": "heading",
     "level": 3,
     "metadata": {},
     "source": [
      "Visualizing Result"
     ]
    },
    {
     "cell_type": "markdown",
     "metadata": {},
     "source": [
      "Next, we generate a video to show the final result:"
     ]
    },
    {
     "cell_type": "code",
     "collapsed": false,
     "input": [
      "%run visualize_output.py"
     ],
     "language": "python",
     "metadata": {},
     "outputs": [],
     "prompt_number": 5
    },
    {
     "cell_type": "markdown",
     "metadata": {},
     "source": [
      "The resulting video can be viewed below:"
     ]
    },
    {
     "cell_type": "code",
     "collapsed": false,
     "input": [
      "import IPython.lib.display\n",
      "IPython.lib.display.YouTubeVideo('kOAok4a9buA')"
     ],
     "language": "python",
     "metadata": {},
     "outputs": [
      {
       "html": [
        "\n",
        "            <iframe\n",
        "                width=\"400\"\n",
        "                height=\"300\"\n",
        "                src=\"http://www.youtube.com/embed/kOAok4a9buA\"\n",
        "                frameborder=\"0\"\n",
        "                allowfullscreen\n",
        "            ></iframe>\n",
        "        "
       ],
       "output_type": "pyout",
       "prompt_number": 6,
       "text": [
        "<IPython.lib.display.YouTubeVideo at 0x28306d0>"
       ]
      }
     ],
     "prompt_number": 6
    },
    {
     "cell_type": "markdown",
     "metadata": {},
     "source": [
      "The video depicts the following:\n",
      "\n",
      "The first row of the video shows the input to the visual system. The visual input has two periods of events interleaved with quiescent periods. The first event is a quick vertically moving black to white edge followed by white to black edge. The second event is a quick horizontally moving black to white edge followed by white to black edge.\n",
      "\n",
      "The second row of the video shows the odorant waveform. A series of ON and OFF events of the odorant waveform are depicted.\n",
      "\n",
      "The third row is a raster plot of the spikes generated by the 8 neurons in the integration LPU.\n",
      "Each neuron fires spikes if the light intensity stimulates the receptive field and at the same time the odorant is on. For example, either the increase of overall light intensity in area 1 alone (34s to 39s) or the delivery of the odorant alone (3s to 7s) can not induce spike in neuron #1, but the coincidence between the light onset and odorant is detected by this neuron."
     ]
    }
   ],
   "metadata": {}
  }
 ]
}